{
 "cells": [
  {
   "cell_type": "markdown",
   "metadata": {},
   "source": [
    "### Simple Linear Regression\n",
    "\n",
    "This notebook explores the concept of Simple Linear Regression using a classic example: predicting house prices.\n",
    "\n",
    "We'll utilize the houses_portland_simple dataset, a simplified CSV file containing two features (Size and Bedrooms) and a target variable (Price). This dataset will serve as our foundation for understanding how linear regression can be used to model the relationship between these variables and predict house prices."
   ]
  },
  {
   "cell_type": "code",
   "execution_count": 21,
   "metadata": {},
   "outputs": [],
   "source": [
    "#libraries\n",
    "import numpy as np # linear algebra\n",
    "import pandas as pd # read and wrangle dataframes\n",
    "import matplotlib.pyplot as plt # visualization\n",
    "\n",
    "from scratch_libraries.linear_regression import LinearRegression # our scratch implementation of Linear Regression"
   ]
  },
  {
   "cell_type": "code",
   "execution_count": 22,
   "metadata": {},
   "outputs": [
    {
     "data": {
      "text/html": [
       "<div>\n",
       "<style scoped>\n",
       "    .dataframe tbody tr th:only-of-type {\n",
       "        vertical-align: middle;\n",
       "    }\n",
       "\n",
       "    .dataframe tbody tr th {\n",
       "        vertical-align: top;\n",
       "    }\n",
       "\n",
       "    .dataframe thead th {\n",
       "        text-align: right;\n",
       "    }\n",
       "</style>\n",
       "<table border=\"1\" class=\"dataframe\">\n",
       "  <thead>\n",
       "    <tr style=\"text-align: right;\">\n",
       "      <th></th>\n",
       "      <th>Size</th>\n",
       "      <th>Bedroom</th>\n",
       "      <th>Price</th>\n",
       "    </tr>\n",
       "  </thead>\n",
       "  <tbody>\n",
       "    <tr>\n",
       "      <th>0</th>\n",
       "      <td>2104</td>\n",
       "      <td>3</td>\n",
       "      <td>399900</td>\n",
       "    </tr>\n",
       "    <tr>\n",
       "      <th>1</th>\n",
       "      <td>1600</td>\n",
       "      <td>3</td>\n",
       "      <td>329900</td>\n",
       "    </tr>\n",
       "    <tr>\n",
       "      <th>2</th>\n",
       "      <td>2400</td>\n",
       "      <td>3</td>\n",
       "      <td>369000</td>\n",
       "    </tr>\n",
       "    <tr>\n",
       "      <th>3</th>\n",
       "      <td>1416</td>\n",
       "      <td>2</td>\n",
       "      <td>232000</td>\n",
       "    </tr>\n",
       "    <tr>\n",
       "      <th>4</th>\n",
       "      <td>3000</td>\n",
       "      <td>4</td>\n",
       "      <td>539900</td>\n",
       "    </tr>\n",
       "    <tr>\n",
       "      <th>5</th>\n",
       "      <td>1985</td>\n",
       "      <td>4</td>\n",
       "      <td>299900</td>\n",
       "    </tr>\n",
       "    <tr>\n",
       "      <th>6</th>\n",
       "      <td>1534</td>\n",
       "      <td>3</td>\n",
       "      <td>314900</td>\n",
       "    </tr>\n",
       "    <tr>\n",
       "      <th>7</th>\n",
       "      <td>1427</td>\n",
       "      <td>3</td>\n",
       "      <td>198999</td>\n",
       "    </tr>\n",
       "    <tr>\n",
       "      <th>8</th>\n",
       "      <td>1380</td>\n",
       "      <td>3</td>\n",
       "      <td>212000</td>\n",
       "    </tr>\n",
       "    <tr>\n",
       "      <th>9</th>\n",
       "      <td>1494</td>\n",
       "      <td>3</td>\n",
       "      <td>242500</td>\n",
       "    </tr>\n",
       "  </tbody>\n",
       "</table>\n",
       "</div>"
      ],
      "text/plain": [
       "   Size  Bedroom   Price\n",
       "0  2104        3  399900\n",
       "1  1600        3  329900\n",
       "2  2400        3  369000\n",
       "3  1416        2  232000\n",
       "4  3000        4  539900\n",
       "5  1985        4  299900\n",
       "6  1534        3  314900\n",
       "7  1427        3  198999\n",
       "8  1380        3  212000\n",
       "9  1494        3  242500"
      ]
     },
     "metadata": {},
     "output_type": "display_data"
    }
   ],
   "source": [
    "# read the dataset of houses prices\n",
    "houses = pd.read_csv('./datasets/houses_portaland_simple.csv')\n",
    "\n",
    "display(houses[:10])\n"
   ]
  },
  {
   "cell_type": "code",
   "execution_count": 23,
   "metadata": {},
   "outputs": [
    {
     "name": "stdout",
     "output_type": "stream",
     "text": [
      "              Size    Bedroom          Price\n",
      "count    47.000000  47.000000      47.000000\n",
      "mean   2000.680851   3.170213  340412.659574\n",
      "std     794.702354   0.760982  125039.899586\n",
      "min     852.000000   1.000000  169900.000000\n",
      "25%    1432.000000   3.000000  249900.000000\n",
      "50%    1888.000000   3.000000  299900.000000\n",
      "75%    2269.000000   4.000000  384450.000000\n",
      "max    4478.000000   5.000000  699900.000000\n"
     ]
    }
   ],
   "source": [
    "# print dataset stats\n",
    "print(houses.describe())"
   ]
  },
  {
   "cell_type": "markdown",
   "metadata": {},
   "source": [
    "Since we are interested in Simple Linear Regression, we need to consider a single feature, for istance 'Size'. To isolate this feature, we will remove the 'Bedrooms' column from our dataset. This will leave us with a dataset containing only the 'Size' feature and the target variable, 'Price'."
   ]
  },
  {
   "cell_type": "code",
   "execution_count": 24,
   "metadata": {},
   "outputs": [
    {
     "name": "stdout",
     "output_type": "stream",
     "text": [
      "   Size   Price\n",
      "0  2104  399900\n",
      "1  1600  329900\n",
      "2  2400  369000\n",
      "3  1416  232000\n",
      "4  3000  539900\n"
     ]
    }
   ],
   "source": [
    "# Remove the Bedroom column, so we can use simple linear regression\n",
    "houses.drop('Bedroom', axis=1, inplace=True)\n",
    "\n",
    "print(houses.head())"
   ]
  },
  {
   "cell_type": "markdown",
   "metadata": {},
   "source": [
    "In machine learning, it's crucial to shuffle the data before training the model. This prevents the model from favoring patterns based on the original order of the data."
   ]
  },
  {
   "cell_type": "code",
   "execution_count": 25,
   "metadata": {},
   "outputs": [],
   "source": [
    "# shuffling all the samples to avoid group bias (to avoid any ordering bias)\n",
    "houses = houses.sample(frac=1, random_state=123).reset_index(drop=True)"
   ]
  },
  {
   "cell_type": "markdown",
   "metadata": {},
   "source": [
    "Visualizing the data helps us understand the underlying relationship between features (like Size) and the target variable (Price). Here, we see a scatter plot having on x-axis size and on y-axis price where each dot represents a sample of our dataset. By looking for patterns, we can assess if a linear relationship might exist between size and price which would be the case if we notice that the data points appear to follow a straight line."
   ]
  },
  {
   "cell_type": "code",
   "execution_count": 26,
   "metadata": {},
   "outputs": [
    {
     "data": {
      "image/png": "[encoded data removed]",
      "text/plain": [
       "<Figure size 640x480 with 1 Axes>"
      ]
     },
     "metadata": {},
     "output_type": "display_data"
    }
   ],
   "source": [
    "# Let's visualize our data plotting house size vs. price\n",
    "plt.plot(houses.Size, houses.Price, 'r.') # to plot data as red (r) dots (.)\n",
    "plt.show()"
   ]
  },
  {
   "cell_type": "markdown",
   "metadata": {},
   "source": [
    "Another way to assess whether a linear relationship exists between our data is by examining the correlation coefficient, which quantifies the strength and direction of the linear relationship between two variables.\n",
    "- A value close to 1 indicates a strong positive linear correlation,\n",
    "- A value close to -1 indicates a strong negative linear correlation, and\n",
    "- A value near 0 suggests little to no linear relationship.\n",
    "This metric helps us determine whether linear regression is an appropriate modeling approach for the dataset.\n",
    "\n",
    "In this case, we observe a high positive correlation coefficient (0.854988), which strongly suggests that our feature ('Size') and target ('Price') have a linear relationship. Therefore, a Linear Regression model is likely to perform well for this data.\n",
    "\n",
    "This correlation analysis serves as additional confirmation, complementing the insight we gained from the earlier scatterplot visualization."
   ]
  },
  {
   "cell_type": "code",
   "execution_count": 27,
   "metadata": {},
   "outputs": [
    {
     "name": "stdout",
     "output_type": "stream",
     "text": [
      "           Size     Price\n",
      "Size   1.000000  0.854988\n",
      "Price  0.854988  1.000000\n"
     ]
    }
   ],
   "source": [
    "print(houses.corr()) # This calculates and prints the correlation matrix, allowing us to see the correlation between house size and price."
   ]
  },
  {
   "cell_type": "markdown",
   "metadata": {},
   "source": [
    "Before training a model, an important preprocessing step is **normalization**. When features have vastly different ranges of values, it’s crucial to scale them to comparable ranges. This prevents the algorithm struggle to converge due to the differences in feature scales during gradient descent.\n",
    "\n",
    "Normalization ensures that all features are scaled so that they fall within a similar range, improving computational efficiency and convergence during training.\n",
    "\n",
    "In this case, we apply **Z-score normalization**, which rescales the feature ('Size') and target ('Price') to have a mean of 0 and a standard deviation of 1."
   ]
  },
  {
   "cell_type": "code",
   "execution_count": 28,
   "metadata": {},
   "outputs": [
    {
     "name": "stdout",
     "output_type": "stream",
     "text": [
      "First 5 dataset values (before normalization):\n",
      " [[  1380 212000]\n",
      " [  2000 347000]\n",
      " [   852 179900]\n",
      " [  2609 499998]\n",
      " [  1200 299000]]\n",
      "First 5 dataset values (after normalization):\n",
      " [[-7.89466782e-01 -1.03807621e+00]\n",
      " [-8.65999486e-04  5.32514582e-02]\n",
      " [-1.46104938e+00 -1.29756968e+00]\n",
      " [ 7.73743478e-01  1.29007331e+00]\n",
      " [-1.01841540e+00 -3.34776157e-01]]\n"
     ]
    }
   ],
   "source": [
    "# Z-Score Normalization\n",
    "houses = houses.values\n",
    "print(\"First 5 dataset values (before normalization):\\n\", houses[:5])\n",
    "\n",
    "mean = houses.mean(axis=0)\n",
    "std = houses.std(axis=0)\n",
    "\n",
    "houses = (houses - mean) / std\n",
    "\n",
    "print(\"First 5 dataset values (after normalization):\\n\", houses[:5])"
   ]
  },
  {
   "cell_type": "code",
   "execution_count": 29,
   "metadata": {},
   "outputs": [
    {
     "data": {
      "image/png": "[encoded data removed]",
      "text/plain": [
       "<Figure size 640x480 with 1 Axes>"
      ]
     },
     "metadata": {},
     "output_type": "display_data"
    }
   ],
   "source": [
    "# Plot to show the new normalized values\n",
    "x = houses[:, 0]\n",
    "y = houses[:, 1]\n",
    "\n",
    "plt.plot(x, y, 'r.')\n",
    "plt.show()"
   ]
  },
  {
   "cell_type": "markdown",
   "metadata": {},
   "source": [
    "To enable the model to learn an intercept (bias), we add a column of ones to $ x $. This bias term allows the regression line to shift vertically, improving the model's ability to fit the data."
   ]
  },
  {
   "cell_type": "code",
   "execution_count": 30,
   "metadata": {},
   "outputs": [
    {
     "name": "stdout",
     "output_type": "stream",
     "text": [
      "[[ 1.00000000e+00 -7.89466782e-01]\n",
      " [ 1.00000000e+00 -8.65999486e-04]\n",
      " [ 1.00000000e+00 -1.46104938e+00]\n",
      " [ 1.00000000e+00  7.73743478e-01]\n",
      " [ 1.00000000e+00 -1.01841540e+00]]\n"
     ]
    }
   ],
   "source": [
    "# add bias column\n",
    "x = np.c_[np.ones(x.shape[0]), x ] # Adds a bias (intercept) term to x by inserting a column of ones, allowing the model to learn an intercept.\n",
    "\n",
    "print(x[:5])"
   ]
  },
  {
   "cell_type": "markdown",
   "metadata": {},
   "source": [
    " We are now ready to create a simple linear regression model, which can be expressed as:  \n",
    "\n",
    "$$\n",
    "h_\\theta \\left( x^{(i)} \\right) = \\theta_0 + \\theta_1 x_1^{(i)}\n",
    "$$\n",
    "\n",
    "Recall that our goal is to predict house prices and to achieve this, we need to \"fit\" the model by finding the parameters $\\theta$ (in this case, $\\theta_0$ and $\\theta_1$) that best approximate the relationship between the target variable (`Price`) and the feature (`Size`).  \n",
    "\n",
    "To fit the model, we need to choose parameters such that the hypothesis $h_\\theta$ is as close as possible to $y$ for the training examples. We saw that a way to measure this closeness is to use a **cost function** that quantifies the error between the predicted values and the actual target values. Moreover, we also saw that we can use as cost function the **Mean Squared Error (MSE)**, which is defined as:  \n",
    "\n",
    "$$\n",
    "J(\\theta) = \\frac{1}{2m} \\sum_{i=1}^{m} \\left( h_\\theta \\left( x^{(i)} \\right) - y^{(i)} \\right)^2\n",
    "$$\n",
    "\n",
    "where:  \n",
    "- $m$ is the number of training examples.  \n",
    "- $h_\\theta \\left( x^{(i)} \\right)$ is the predicted value from the hypothesis function.  \n",
    "- $y^{(i)}$ is the actual target value.  \n",
    "\n",
    "Therefore our ultimate goal is to find the parameters $\\theta$ that minimize this cost function. Mathematically, this can be expressed as:  \n",
    "\n",
    "$$\n",
    "\\theta_{\\text{min}} = \\underset{\\theta}{\\text{argmin}} \\, J(\\theta_0, \\theta_1)\n",
    "$$\n",
    "\n",
    "We saw that an efficient method to minimize the cost function is the **Gradient Descent (GD)** algorithm. Gradient descent is an optimization technique that iteratively adjusts the model's parameters to minimize the cost. It follows the direction of the steepest descent (where the cost decreases most rapidly), determined by the gradient of the cost function.  \n",
    "\n",
    "The steps for performing gradient descent are:  \n",
    "\n",
    "1. **Initialize the Parameters**: Randomly initialize $\\theta_0$ and $\\theta_1$.  \n",
    "2. **Update the Parameters**: The parameters are updated using their partial derivatives with respect to the cost function. The update rule is:  \n",
    "\n",
    "   $$\n",
    "   \\theta_j \\coloneqq \\theta_j - \\alpha \\frac{\\partial J(\\theta)}{\\partial \\theta_j}, \\quad \\alpha > 0\n",
    "   $$\n",
    "\n",
    "   where:  \n",
    "   - $\\frac{\\partial}{\\partial \\theta_j} J(\\theta_0, \\theta_1)$ is the partial derivative of the cost function with respect to $\\theta_j$.  \n",
    "   - $\\alpha$ is the **learning rate**, a hyperparameter that determines the step size in each iteration.  \n",
    "\n",
    "   We derived the closed-form expression for the partial derivative of the cost function which is given by:  \n",
    "\n",
    "   $$\n",
    "   \\frac{\\partial J(\\theta)}{\\partial \\theta_j} = \\frac{1}{m} \\sum_{i=1}^{m} \\left( h_\\theta \\left( x^{(i)} \\right) - y^{(i)} \\right) x_j^{(i)}\n",
    "   $$\n",
    "\n",
    "   This formula is used during the gradient descent update step.  \n",
    "\n",
    "\n",
    "In this implementation, we will use **Batch Gradient Descent (BGD)**, which considers **all** training examples to compute the gradient and perform a single update step. The update rule for BGD is:  \n",
    "\n",
    "$$\n",
    "\\theta_j \\coloneqq \\theta_j - \\alpha \\frac{1}{m} \\sum_{i=1}^{m} \\left( h_\\theta \\left( x^{(i)} \\right) - y^{(i)} \\right) x_j^{(i)}\n",
    "$$\n",
    "\n",
    "In the next notebook, we will explore two other gradient descent methods: **Stochastic Gradient Descent (SGD)** and **Mini-Batch Gradient Descent (MBGD)**.\n",
    "\n",
    "---\n",
    "### Matrix Representation of the Gradient  \n",
    "\n",
    "In our case we operate on a dataset that basically follows this convention:  \n",
    "- $X \\in \\mathbb{R}^{m \\times n}$ is the input matrix, where each row represents a training sample and each column represents a feature.  \n",
    "- $y \\in \\mathbb{R}^{m \\times 1}$ is the output column vector (the target values).  \n",
    "\n",
    "In such a case we can express the **gradient** (i.e., the vector of all partial derivatives) in matrix form as:  \n",
    "\n",
    "$$\n",
    "\\nabla J(\\theta) = \\frac{1}{m} X^T \\left( X\\theta - y \\right)\n",
    "$$\n",
    "\n",
    "This matrix formulation allows us to compute the gradient efficiently, operating directly with vectors and matrices without iterating through each training sample with a `for` loop.\n",
    "\n",
    "---"
   ]
  },
  {
   "cell_type": "markdown",
   "metadata": {},
   "source": [
    "We initialize a linear regression model with:\n",
    "- `n_features=x.shape[1]`: Number of features, including the bias term.\n",
    "- `n_steps=1000`: Number of iterations (epochs) for gradient descent (therefore, in this case we use a fixed number of epochs as the stopping condition of convergence).\n",
    "- `learning_rate=0.01`: The step size for updating model parameters during training.\n",
    "Note: The last two are hyperparameters."
   ]
  },
  {
   "cell_type": "code",
   "execution_count": 31,
   "metadata": {},
   "outputs": [],
   "source": [
    "# create a regressor with specific characteristics (with 1000 steps and a learning rate of 0.01)\n",
    "linear = LinearRegression(n_features=x.shape[1], n_steps=1000, learning_rate=0.01)"
   ]
  },
  {
   "cell_type": "markdown",
   "metadata": {},
   "source": [
    "At the start of training, the model parameters ($\\theta$) are initialized randomly. Using these initial parameters, the model's hypothesis is represented as a straight line:  \n",
    "\n",
    "$$\n",
    "h_\\theta \\left( x^{(i)} \\right) = \\theta_0 + \\theta_1 x_1^{(i)}\n",
    "$$\n",
    "\n",
    "We can visualize this initial hypothesis below. As expected, the line does not fit the data well, highlighting the need for training to adjust the parameters and improve the model."
   ]
  },
  {
   "cell_type": "code",
   "execution_count": 32,
   "metadata": {},
   "outputs": [
    {
     "data": {
      "image/png": "[encoded data removed]",
      "text/plain": [
       "<Figure size 640x480 with 1 Axes>"
      ]
     },
     "metadata": {},
     "output_type": "display_data"
    }
   ],
   "source": [
    "# Before fitting\n",
    "# Let's create a line that represents our model’s current hypothesis. \n",
    "# We generate it based on the current values of our model’s parameters (theta) that at the begin are random. \n",
    "lineX = np.linspace(x[:, 1].min(), x[:, 1].max(), 100) # generates 100 evenly spaced values between the minimum and maximum normalized values of our feature (Size)\n",
    "liney = [linear.theta[0] + linear.theta[1]*xx for xx in lineX] # create a list of predicted prices for each corresponding house size in lineX, where the predicted price is computed as y = theta_0 + theta_1*x\n",
    "\n",
    "plt.plot(x[:, 1], y, 'r.', label='Training data')\n",
    "plt.plot(lineX, liney, 'b--', label='Current hypothesis')\n",
    "plt.legend()\n",
    "plt.show()"
   ]
  },
  {
   "cell_type": "markdown",
   "metadata": {},
   "source": [
    "Next, we train our model by applying full batch gradient descent to the training set. The fit method returns the evolution history of training costs and the new optimized parameters values ($\\theta_0$ and $\\theta_1$) after training.\n"
   ]
  },
  {
   "cell_type": "code",
   "execution_count": 33,
   "metadata": {},
   "outputs": [
    {
     "name": "stdout",
     "output_type": "stream",
     "text": [
      "Thetas: (3.006744352525792e-05, 0.8549630349892431)\n",
      "Final train cost:  0.134\n"
     ]
    }
   ],
   "source": [
    "# fit your trained regressor (recording cost history and theta values at each step)\n",
    "cost_history, theta_history = linear.fit_fullbatch(x, y)\n",
    "\n",
    "print(f'''Thetas: {*linear.theta,}''') # unpacks the elements of linear.theta, which include the theta_0 and theta_1 paramters after training, as individual values within a formatted string.\n",
    "print(f'''Final train cost:  {cost_history[-1]:.3f}''') # retrieves the last value in cost_history formatting it to three decimal places."
   ]
  },
  {
   "cell_type": "code",
   "execution_count": 34,
   "metadata": {},
   "outputs": [
    {
     "name": "stdout",
     "output_type": "stream",
     "text": [
      "[[6.89504494e-01 2.91827818e-01]\n",
      " [6.82609449e-01 2.97459415e-01]\n",
      " [6.75783354e-01 3.03034697e-01]\n",
      " ...\n",
      " [3.06779344e-05 8.54962536e-01]\n",
      " [3.03711551e-05 8.54962787e-01]\n",
      " [3.00674435e-05 8.54963035e-01]]\n"
     ]
    }
   ],
   "source": [
    "# Here we can see how the paramters have changed during BGD iterations. The last ones are the parameters value after after the last iteration.\n",
    "print(theta_history)"
   ]
  },
  {
   "cell_type": "code",
   "execution_count": 35,
   "metadata": {},
   "outputs": [
    {
     "name": "stdout",
     "output_type": "stream",
     "text": [
      "theta_0 (after training):  3.006744352525792e-05\n",
      "theta_1 (after training):  0.8549630349892431\n"
     ]
    }
   ],
   "source": [
    "print(\"theta_0 (after training): \", theta_history[-1, 0])\n",
    "print(\"theta_1 (after training): \", theta_history[-1, 1])"
   ]
  },
  {
   "cell_type": "markdown",
   "metadata": {},
   "source": [
    "**Visualizing the final hypothesis** : After training, we can plot the model’s final hypothesis using these last values of theta from training."
   ]
  },
  {
   "cell_type": "code",
   "execution_count": 36,
   "metadata": {},
   "outputs": [
    {
     "data": {
      "image/png": "[encoded data removed]",
      "text/plain": [
       "<Figure size 640x480 with 1 Axes>"
      ]
     },
     "metadata": {},
     "output_type": "display_data"
    }
   ],
   "source": [
    "# After fitting\n",
    "lineX = np.linspace(x[:, 1].min(), x[:, 1].max(), 100)\n",
    "liney = [theta_history[-1, 0] + theta_history[-1, 1]*xx for xx in lineX] \n",
    "# Note: theta_history[-1, 0] takes the last array of the theta_history arrays (which to the final value after training) and \n",
    "# of it takes the first element which is the bias\n",
    "\n",
    "plt.plot(x[:, 1], y, 'r.', label='Training data')\n",
    "plt.plot(lineX, liney, 'b--', label='Current hypothesis')\n",
    "plt.legend()\n",
    "plt.show()"
   ]
  },
  {
   "cell_type": "markdown",
   "metadata": {},
   "source": [
    "**Visualizing the Cost History**: This plot shows the evolution of the cost function over training iterations. A decreasing trend indicates that the model is converging towards a solution. It provides a visual confirmation that gradient descent is working effectively."
   ]
  },
  {
   "cell_type": "code",
   "execution_count": 37,
   "metadata": {},
   "outputs": [
    {
     "data": {
      "image/png": "[encoded data removed]",
      "text/plain": [
       "<Figure size 640x480 with 1 Axes>"
      ]
     },
     "metadata": {},
     "output_type": "display_data"
    }
   ],
   "source": [
    "plt.plot(cost_history, 'g--')\n",
    "plt.show()"
   ]
  },
  {
   "cell_type": "markdown",
   "metadata": {},
   "source": [
    "#### Visualizing the Cost Function with a Contour Plot\n",
    "At the end, below we plot the Contour Plot of the Cost Function. A contour plot is a graphical representation of a 3D surface in 2D, where each contour line connects points of equal cost. In this case, the x-axis and y-axis represent the parameters $\\theta_0$ (bias) and $\\theta_1$ (weight), while the contour levels correspond to specific cost values $J(\\theta_0, \\theta_1)$.  \n",
    "\n",
    "This plot allows us to visualize how the cost function behaves across different parameter values. By examining the contours:\n",
    "- We can observe how the cost decreases as $\\theta_0$ and $\\theta_1$ approach the optimal values that minimize the cost function.  \n",
    "- The path traced by the model during training, as shown by the red dashed line, illustrates how gradient descent iteratively updates the parameters to reach the minimum cost.\n"
   ]
  },
  {
   "cell_type": "code",
   "execution_count": 38,
   "metadata": {},
   "outputs": [
    {
     "name": "stdout",
     "output_type": "stream",
     "text": [
      "[[6.20997519 6.06705927 5.92669412 ... 4.22347082 4.32797864 4.43503722]\n",
      " [6.12998335 5.98706744 5.84670228 ... 4.14347898 4.2479868  4.35504538]\n",
      " [6.051624   5.90870808 5.76834293 ... 4.06511963 4.16962745 4.27668603]\n",
      " ...\n",
      " [6.051624   5.90870808 5.76834293 ... 4.06511963 4.16962745 4.27668603]\n",
      " [6.12998335 5.98706744 5.84670228 ... 4.14347898 4.2479868  4.35504538]\n",
      " [6.20997519 6.06705927 5.92669412 ... 4.22347082 4.32797864 4.43503722]]\n"
     ]
    }
   ],
   "source": [
    "# VISUALIZE COST FUNCTION (AS A CONTOUR PLOT)\n",
    "# This help us in understanding how the cost changes with different parameter values.\n",
    "\n",
    "# Step 1: Define the Range for theta0 and theta1\n",
    "#Grid over which we will calculate J\n",
    "theta0_vals = np.linspace(-2, 2, 100) # theta0_vals is a range of 100 values between -2 and 2, representing different values for the parameter theta0 (bias).\n",
    "theta1_vals = np.linspace(-2, 3, 100) # theta1_vals is a range of 100 values between -2 and 3, representing different values for the parameter theta1 (weight)\n",
    "\n",
    "# Step 2: Initialize a Cost Matrix\n",
    "# This is a matrix of zeros, where each element will store a computed cost value.\n",
    "J_vals = np.zeros((theta0_vals.size, theta1_vals.size)) # dimensions 100 x 100\n",
    "\n",
    "#Fill out J_vals\n",
    "# We iterate over each combination of theta0 and theta1 values.\n",
    "for t0, theta0 in enumerate(theta0_vals):\n",
    "    for t1, theta1 in enumerate(theta1_vals):\n",
    "        # For each pair, a temporary thetaT array is created, which represents a candidate parameter vector, [theta0, theta1].\n",
    "        thetaT = np.zeros(shape=(2, 1)) # it's an array of cloumn vectors (so it's the trasponse of theta)\n",
    "        thetaT[0][0] = theta0\n",
    "        thetaT[1][0] = theta1\n",
    "        h = x.dot(thetaT.flatten()) # calculates the predictions h for each x using the current values of theta0 and theta1 (in thetaT). \n",
    "        # Note: thetaT.flatten() converts thetaT to a 1D array, making it compatible with x.dot()\n",
    "        j = (h - y) # calculates the residuals (differences between predicted values h and actual values y).\n",
    "        J = j.dot(j) / 2 / (len(x)) # computes the Mean Squared Error (MSE) cost\n",
    "        J_vals[t0, t1] = J # This J value is stored in J_vals[t1, t2], recording the cost for this particular combination of parameters.\n",
    "\n",
    "print(J_vals)"
   ]
  },
  {
   "cell_type": "code",
   "execution_count": 39,
   "metadata": {},
   "outputs": [
    {
     "data": {
      "image/png": "[encoded data removed]",
      "text/plain": [
       "<Figure size 640x480 with 2 Axes>"
      ]
     },
     "metadata": {},
     "output_type": "display_data"
    }
   ],
   "source": [
    "#Contour plot\n",
    "J_vals = J_vals.T # transpose of J_vals matrix\n",
    "# This will represent height values over which the contour is drawn.\n",
    "\n",
    "# Let's create a two 2D arrays, A and B, from the theta0_vals and theta1_vals ranges, where:\n",
    "#    - A represents theta0 values across the x-axis.\n",
    "#    - B represents theta1 values across the y-axis.\n",
    "# C is set to J_vals, representing the cost values corresponding to each (theta0, theta1) pair. \n",
    "# So, like that each point (A, B) on the grid corresponds to a cost in C.\n",
    "A, B = np.meshgrid(theta0_vals, theta1_vals) \n",
    "C = J_vals\n",
    "\n",
    "cp = plt.contourf(A, B, C) # generates a filled contour plot of J (cost) as a function of theta0 and theta1.\n",
    "# A and B form the x and y axes (representing theta0 and theta1), while C provides the levels (contours) representing different cost values.\n",
    "plt.colorbar(cp) #  adds a color bar next to the plot, showing the cost values corresponding to different contour colors.\n",
    "plt.plot(theta_history.T[0], theta_history.T[1], 'r--') # Plot the path of theta values over time showing how these theta changes\n",
    "# during training as it moves toward the optimal cost.\n",
    "plt.show()"
   ]
  },
  {
   "cell_type": "code",
   "execution_count": null,
   "metadata": {},
   "outputs": [],
   "source": []
  }
 ],
 "metadata": {
  "kernelspec": {
   "display_name": "ml_venv",
   "language": "python",
   "name": "python3"
  },
  "language_info": {
   "codemirror_mode": {
    "name": "ipython",
    "version": 3
   },
   "file_extension": ".py",
   "mimetype": "text/x-python",
   "name": "python",
   "nbconvert_exporter": "python",
   "pygments_lexer": "ipython3",
   "version": "3.12.6"
  }
 },
 "nbformat": 4,
 "nbformat_minor": 2
}
