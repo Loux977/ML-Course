{
 "cells": [
  {
   "cell_type": "markdown",
   "metadata": {},
   "source": [
    "### Sklearn Random Forest Classifier"
   ]
  },
  {
   "cell_type": "code",
   "execution_count": 61,
   "metadata": {},
   "outputs": [],
   "source": [
    "import pandas as pd\n",
    "\n",
    "from sklearn.ensemble import RandomForestClassifier\n",
    "\n",
    "from sklearn.metrics import accuracy_score, confusion_matrix\n",
    "from sklearn.model_selection import train_test_split"
   ]
  },
  {
   "cell_type": "code",
   "execution_count": 62,
   "metadata": {},
   "outputs": [],
   "source": [
    "# Load the data\n",
    "diabetes = pd.read_csv('./datasets/diabetes.csv')"
   ]
  },
  {
   "cell_type": "code",
   "execution_count": 63,
   "metadata": {},
   "outputs": [],
   "source": [
    "# Divide features and target variable transforming them into matrices\n",
    "X = diabetes.drop(['Outcome'], axis=1).values\n",
    "y = diabetes['Outcome'].values\n",
    "\n",
    "# Split the dataset into training and test sets through hold-out strategy\n",
    "X_train, X_test, y_train, y_test = train_test_split(X, y, random_state=42, test_size=0.2, stratify=y)"
   ]
  },
  {
   "cell_type": "markdown",
   "metadata": {},
   "source": [
    "Do we need data normalization if we use a RANDOM FOREST?\n",
    "\n",
    "The answer is no. The same reason explained for decision trees holds."
   ]
  },
  {
   "cell_type": "code",
   "execution_count": 64,
   "metadata": {},
   "outputs": [],
   "source": [
    "# Create a random forest classifier\n",
    "'''\n",
    "n_estimators: the number of trees in the forest\n",
    "criterion: the function to measure the quality of a split\n",
    "min_samples_leaf: sets the minimum number of samples required to be at a leaf node\n",
    "max_depth:  limits the maximum depth of the decision tree\n",
    "\n",
    ">> n_estimators ---> more complexity (overfitting)\n",
    "<< min_samples_leaf & >> max_depth  --->  more complexity (overfitting)\n",
    ">> min_samples_leaf & << max_depth  --->  less complexity (underfitting)\n",
    "'''\n",
    "\n",
    "# Change hyperparameters as you wish\n",
    "n_estimators=200 # best on 5\n",
    "criterion = 'entropy'\n",
    "min_samples_leaf = 2\n",
    "max_depth = 5\n",
    "clf = RandomForestClassifier(n_estimators=n_estimators, criterion=criterion, min_samples_leaf=min_samples_leaf,\n",
    "                             max_depth=max_depth, random_state=42)\n",
    "\n",
    "# Train the classifier\n",
    "clf = clf.fit(X_train, y_train)"
   ]
  },
  {
   "cell_type": "code",
   "execution_count": 65,
   "metadata": {},
   "outputs": [
    {
     "name": "stdout",
     "output_type": "stream",
     "text": [
      "Accuracy TEST: 0.7272727272727273\n",
      "Confusion Matrix:\n",
      " [[84 16]\n",
      " [26 28]]\n"
     ]
    }
   ],
   "source": [
    "# Compute predictions\n",
    "y_pred = clf.predict(X_test)\n",
    "print(f\"Accuracy TEST: {accuracy_score(y_test, y_pred)}\")\n",
    "print('Confusion Matrix:\\n', confusion_matrix(y_test, y_pred))"
   ]
  },
  {
   "cell_type": "code",
   "execution_count": 66,
   "metadata": {},
   "outputs": [
    {
     "name": "stdout",
     "output_type": "stream",
     "text": [
      "Accuracy TRAINING: 0.8517915309446255\n"
     ]
    }
   ],
   "source": [
    "# Compute predictions on the training set and evaluating the model on such predictions\n",
    "# Just for observing overfitting/underfitting\n",
    "y_pred_train = clf.predict(X_train)\n",
    "print(f\"Accuracy TRAINING: {accuracy_score(y_train, y_pred_train)}\")"
   ]
  }
 ],
 "metadata": {
  "kernelspec": {
   "display_name": "ml_venv",
   "language": "python",
   "name": "python3"
  },
  "language_info": {
   "codemirror_mode": {
    "name": "ipython",
    "version": 3
   },
   "file_extension": ".py",
   "mimetype": "text/x-python",
   "name": "python",
   "nbconvert_exporter": "python",
   "pygments_lexer": "ipython3",
   "version": "3.12.6"
  }
 },
 "nbformat": 4,
 "nbformat_minor": 2
}
