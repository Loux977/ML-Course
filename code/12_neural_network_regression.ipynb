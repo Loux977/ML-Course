{
 "cells": [
  {
   "cell_type": "markdown",
   "metadata": {},
   "source": [
    "### Neural Network for Regression\n",
    "\n",
    "The structure and operations of a neural network for regression are basically the same to those used for classification, with three key differences:\n",
    "\n",
    "1. **No Sigmoid at the Output Layer:**  \n",
    "   In regression tasks, the output layer does not apply a sigmoid activation function. Instead, the raw output of the network represents the predicted values.\n",
    "\n",
    "2. **Mean Squared Error (MSE) as the Cost Function:**  \n",
    "   The loss function for regression is the Mean Squared Error (MSE), defined as:\n",
    "\n",
    "   $$\n",
    "   J(\\Theta, B) = \\frac{1}{2m} \\sum_{i=1}^m \\left( h(x^{(i)}) - y^{(i)} \\right)^2 + \\frac{\\lambda}{2m} \\sum_{l=1}^{L-1} \\sum_{v=1}^{d_{l-1}} \\sum_{j=1}^{s_l} \\left( \\Theta_{jv}^{[l]} \\right)^2\n",
    "   $$\n",
    "      Here we consider its L2 regularized version where $\\lambda$ is the regularization parameter.\n",
    "\n",
    "3. **Error Calculation at the Output Layer:**  \n",
    "   In regression, the error for the output layer ($L$) is computed as the simple difference between the predicted output and the actual value:\n",
    "\n",
    "   $$\n",
    "   \\delta^{[L]} = A^{[L]} - y\n",
    "   $$\n",
    "\n",
    "Therefore, to adapt the neural network code for regression, you only need to make the above modifications.\n"
   ]
  },
  {
   "cell_type": "code",
   "execution_count": 39,
   "metadata": {},
   "outputs": [],
   "source": [
    "import numpy as np\n",
    "import pandas as pd\n",
    "\n",
    "from scratch_libraries.regression_nn import NeuralNetwork"
   ]
  },
  {
   "cell_type": "code",
   "execution_count": 40,
   "metadata": {},
   "outputs": [],
   "source": [
    "house= pd.read_csv('./datasets/houses.csv')"
   ]
  },
  {
   "cell_type": "code",
   "execution_count": 41,
   "metadata": {},
   "outputs": [],
   "source": [
    "house = house.sample(frac=1, random_state=123).reset_index(drop=True)"
   ]
  },
  {
   "cell_type": "code",
   "execution_count": 42,
   "metadata": {},
   "outputs": [],
   "source": [
    "x = house[['GrLivArea','LotArea','GarageArea','FullBath']].values\n",
    "\n",
    "y = house['SalePrice'].values\n",
    "y = y.reshape(-1, 1) # reshape (for explicit dimensions)\n",
    "\n",
    "train_index = round(len(x)*0.8)\n",
    "\n",
    "X_train = x[:train_index]\n",
    "y_train = y[:train_index]\n",
    "\n",
    "X_test = x[train_index:]\n",
    "y_test = y[train_index:]"
   ]
  },
  {
   "cell_type": "code",
   "execution_count": 43,
   "metadata": {},
   "outputs": [],
   "source": [
    "mean= X_train.mean(axis=0)\n",
    "std = X_train.std(axis=0)\n",
    "\n",
    "X_train = (X_train - mean)/std\n",
    "X_test = (X_test - mean)/std"
   ]
  },
  {
   "cell_type": "code",
   "execution_count": 44,
   "metadata": {},
   "outputs": [
    {
     "name": "stdout",
     "output_type": "stream",
     "text": [
      "[[ 1.02818732 -0.09200321 -0.19555998  0.79815675]\n",
      " [ 0.51560443 -0.08293953  1.43101858  0.79815675]\n",
      " [ 0.38598577 -0.6779945  -0.45015489  0.79815675]\n",
      " ...\n",
      " [ 0.62165606  0.11684324  1.40744497  0.79815675]\n",
      " [-0.70595325  0.34753795  0.04017604 -1.01908903]\n",
      " [ 0.21316089  0.23171356  2.0580764   0.79815675]]\n"
     ]
    }
   ],
   "source": [
    "print(X_train)"
   ]
  },
  {
   "cell_type": "code",
   "execution_count": 45,
   "metadata": {},
   "outputs": [],
   "source": [
    "nn = NeuralNetwork(layers=[X_train.shape[1], 10, 10, 1], epochs=3000, alpha=1e-3, lmd=0.1)\n",
    "nn.fit(X_train, y_train)"
   ]
  },
  {
   "cell_type": "code",
   "execution_count": 46,
   "metadata": {},
   "outputs": [
    {
     "name": "stdout",
     "output_type": "stream",
     "text": [
      "[[180980.48653479]\n",
      " [180980.48653479]\n",
      " [180980.48653256]\n",
      " [180980.48653278]\n",
      " [180980.48653479]\n",
      " [180980.48653479]\n",
      " [180980.48653256]\n",
      " [180980.48653256]\n",
      " [180980.48653479]\n",
      " [180980.48653256]\n",
      " [180980.48653256]\n",
      " [180980.48653479]\n",
      " [180980.48653256]\n",
      " [180980.48653479]\n",
      " [180980.48653421]\n",
      " [180980.48653371]\n",
      " [180980.48653255]\n",
      " [180980.48653256]\n",
      " [180980.48653479]\n",
      " [180980.48653263]]\n"
     ]
    }
   ],
   "source": [
    "preds = nn.predict(X_test)\n",
    "print(preds[:20])"
   ]
  },
  {
   "cell_type": "code",
   "execution_count": 47,
   "metadata": {},
   "outputs": [
    {
     "name": "stdout",
     "output_type": "stream",
     "text": [
      "(292, 1)\n"
     ]
    }
   ],
   "source": [
    "print(preds.shape)"
   ]
  },
  {
   "cell_type": "code",
   "execution_count": 48,
   "metadata": {},
   "outputs": [
    {
     "name": "stdout",
     "output_type": "stream",
     "text": [
      "(292, 1)\n"
     ]
    }
   ],
   "source": [
    "print(y_test.shape)"
   ]
  },
  {
   "cell_type": "code",
   "execution_count": 49,
   "metadata": {},
   "outputs": [
    {
     "name": "stdout",
     "output_type": "stream",
     "text": [
      "{'mae': 59749.61321095011, 'mape': 37.98428436110986, 'mpe': 18.60359421393778, 'mse': 6388734047.851775, 'rmse': 79929.55678503275, 'r2': -1.4392476310742808e-05}\n"
     ]
    }
   ],
   "source": [
    "print(nn.compute_performance(preds, y_test))"
   ]
  },
  {
   "cell_type": "markdown",
   "metadata": {},
   "source": [
    "If we look at the results we got we can see that the model seems stuck producing the same prediction repeatedly. In fact, examining the predictions, we observe an array where all values are identical. This issue is not due to an implementation bug in the Neural Network Regression. It is neither due to bad hyperparameters choose (changing hyperparameters you gen a little better metrics performance, but you will not solve this problem).\n",
    "\n",
    "In fact, this problem arises due to a deeper iussue related to the **magnitude of the target variable values (house prices).**  House prices, often ranging in tens or hundreds of thousands, introduce challenges due to their large magnitude:  \n",
    "\n",
    "1. **Numerical Instability:**  \n",
    "   Neural networks update weights incrementally based on the loss gradient. If the target variable has a large magnitude, the loss values and gradients will also be large, leading to small, slow updates to the weights. Consequently, the model converges very slowly or gets stuck, unable to capture meaningful patterns in the data.  \n",
    "\n",
    "2. **Loss Function Effect:**  \n",
    "   The learning process in neural networks depends on efficiently minimizing the loss function. The loss function we adopted, the **Mean Squared Error (MSE)**, amplifies the impact of large target values. These values dominate the error, skewing the learning process and making the model ineffective at predicting accurately smaller values.  \n",
    "\n",
    "-> I suppose that the model likely got trapped in a local minimum dominated by a large target value. So that optimizing the loss for such large value overwhelmed the learning process, preventing effective training.  \n",
    "\n",
    "In such cases to solve the problem what we could do is normalize also the target variable (e.g., through a Z-score normalization). Specifically, what we want to do is:  \n",
    "\n",
    "- **Normalize the Target:**  \n",
    "      Apply Z-score normalization to the training target variable:  \n",
    "      y_train_normalized = (y_train - y_train.mean()) / y_train.std()\n",
    "\n",
    "- **Train the Model:**\n",
    "      Fit the neural network using the normalized target values.\n",
    "  \n",
    "- **Re-denormalize Predictions:**\n",
    "      Transform predictions back to the original scale for interpretation:\n",
    "      y_pred_original = y_pred_normalized * y_train.std() + y_train.mean()\n",
    "\n",
    "\n",
    "**Why Target Normalization Works?**\n",
    "\n",
    "By rescaling the target to a smaller range, the model can learn more effectively. In fact, with normalized targets, the magnitude of the loss function and its gradients are reduced, ensuring that weight updates occur at a reasonable scale. So, the optimization algorithm can efficiently minimize the loss function without being overwhelmed by large gradients (and as a consequence, this prevents the model from getting stuck in local minima).  \n",
    "\n",
    "**Choosing the Right Normalization Technique**  \n",
    "In this case, **Z-score normalization** is the appropriate choice: \n",
    "- We don’t choose **Min-Max Normalization** because, as we studied, it relies on the range of the training data. However, in our case, house prices can vary widely without clear bounds.  \n",
    "- If test data includes values outside this range, predictions may become invalid. Z-score normalization, on the other hand, is robust to such variations.  \n",
    "- A **Min-Max Normalization** can make more sense, for example, when making regression on images since pixel values in images are bounded between 0 and 255."
   ]
  },
  {
   "cell_type": "code",
   "execution_count": 50,
   "metadata": {},
   "outputs": [
    {
     "name": "stdout",
     "output_type": "stream",
     "text": [
      "Before:  [[222500]\n",
      " [ 87000]\n",
      " [130000]\n",
      " ...\n",
      " [314813]\n",
      " [180500]\n",
      " [315500]]\n",
      "After normalization:  [[ 0.52364475]\n",
      " [-1.18535309]\n",
      " [-0.64301429]\n",
      " ...\n",
      " [ 1.68794525]\n",
      " [-0.00608152]\n",
      " [ 1.69661006]]\n"
     ]
    }
   ],
   "source": [
    "## NORMALIZATION\n",
    "\n",
    "print('Before: ', y_train)\n",
    "\n",
    "# Normalize the Target\n",
    "mean_y = np.mean(y_train)\n",
    "std_y = np.std(y_train)\n",
    "y_train = (y_train - mean_y) / std_y\n",
    "print('After normalization: ', y_train)"
   ]
  },
  {
   "cell_type": "code",
   "execution_count": 51,
   "metadata": {},
   "outputs": [],
   "source": [
    "nn = NeuralNetwork(layers=[X_train.shape[1], 10, 10, 1], epochs=3000, alpha=1e-3, lmd=0.1)\n",
    "# Fit the model with nomalized target\n",
    "nn.fit(X_train, y_train)"
   ]
  },
  {
   "cell_type": "code",
   "execution_count": 52,
   "metadata": {},
   "outputs": [
    {
     "data": {
      "image/png": "[encoded data removed]",
      "text/plain": [
       "<Figure size 640x480 with 1 Axes>"
      ]
     },
     "metadata": {},
     "output_type": "display_data"
    }
   ],
   "source": [
    "nn.plot_loss()"
   ]
  },
  {
   "cell_type": "code",
   "execution_count": 53,
   "metadata": {},
   "outputs": [
    {
     "name": "stdout",
     "output_type": "stream",
     "text": [
      "[[-0.81591386]\n",
      " [-0.42823451]\n",
      " [ 0.58901138]\n",
      " [ 0.25699158]\n",
      " [-0.64857698]\n",
      " [-0.72788788]\n",
      " [ 1.18309014]\n",
      " [ 1.00745804]\n",
      " [-0.93232265]\n",
      " [ 1.08907211]\n",
      " [ 1.19103496]\n",
      " [-0.74999713]\n",
      " [ 0.9804439 ]\n",
      " [-0.74113701]\n",
      " [ 0.10244798]\n",
      " [ 0.13832827]\n",
      " [ 0.73532634]\n",
      " [ 0.48232334]\n",
      " [-0.59371676]\n",
      " [ 0.44116312]]\n"
     ]
    }
   ],
   "source": [
    "preds = nn.predict(X_test)\n",
    "print(preds[:20])"
   ]
  },
  {
   "cell_type": "code",
   "execution_count": 54,
   "metadata": {},
   "outputs": [],
   "source": [
    "# Re-denormalize predictions\n",
    "preds = preds * std_y + mean_y"
   ]
  },
  {
   "cell_type": "code",
   "execution_count": 55,
   "metadata": {},
   "outputs": [
    {
     "name": "stdout",
     "output_type": "stream",
     "text": [
      "[[116291.44454596]\n",
      " [147029.07963969]\n",
      " [227682.67397769]\n",
      " [201358.07470345]\n",
      " [129558.95557568]\n",
      " [123270.69350963]\n",
      " [274784.93980643]\n",
      " [260859.73246831]\n",
      " [107061.83091319]\n",
      " [267330.60513743]\n",
      " [275414.85464279]\n",
      " [121517.73430515]\n",
      " [258717.88303363]\n",
      " [122220.21930375]\n",
      " [189104.89522317]\n",
      " [191949.70805828]\n",
      " [239283.43552182]\n",
      " [219223.78068458]\n",
      " [133908.61559946]\n",
      " [215960.34243455]]\n"
     ]
    }
   ],
   "source": [
    "print(preds[:20])"
   ]
  },
  {
   "cell_type": "code",
   "execution_count": 56,
   "metadata": {},
   "outputs": [
    {
     "name": "stdout",
     "output_type": "stream",
     "text": [
      "[[113000]\n",
      " [110000]\n",
      " [235000]\n",
      " [150000]\n",
      " [140000]\n",
      " [132500]\n",
      " [465000]\n",
      " [380000]\n",
      " [ 91500]\n",
      " [290000]\n",
      " [256300]\n",
      " [ 79500]\n",
      " [325000]\n",
      " [145000]\n",
      " [220000]\n",
      " [181500]\n",
      " [235000]\n",
      " [262280]\n",
      " [144500]\n",
      " [145000]]\n"
     ]
    }
   ],
   "source": [
    "# Just to compare our preds with the real target values\n",
    "print(y_test[:20])"
   ]
  },
  {
   "cell_type": "code",
   "execution_count": 57,
   "metadata": {},
   "outputs": [
    {
     "name": "stdout",
     "output_type": "stream",
     "text": [
      "{'mae': 35785.142639278165, 'mape': 21.00856294563624, 'mpe': 8.185521511877663, 'mse': 2731981785.3305264, 'rmse': 52268.36313995806, 'r2': 0.5723689411938659}\n"
     ]
    }
   ],
   "source": [
    "print(nn.compute_performance(preds, y_test))"
   ]
  },
  {
   "cell_type": "markdown",
   "metadata": {},
   "source": [
    "By applying the target normalization approach, we can now see that the model is demonstrating significant improvements in both prediction diversity and performance metrics:\n",
    "- The predictions now vary meaningfully, indicating that the network is capturing patterns in the data instead of being stuck in uniform outputs.\n",
    "- Moreover, keeping the same structure and the same hyperparameters for our network, we can see that performance metrics such as MAE, MAPE and R² highlight a better reduction in prediction errors and an enhanced fit to the data compared to the earlier results.\n",
    "\n",
    "Note: Doing an approapriate Grid Search we could get even better results."
   ]
  }
 ],
 "metadata": {
  "kernelspec": {
   "display_name": "ml_venv",
   "language": "python",
   "name": "python3"
  },
  "language_info": {
   "codemirror_mode": {
    "name": "ipython",
    "version": 3
   },
   "file_extension": ".py",
   "mimetype": "text/x-python",
   "name": "python",
   "nbconvert_exporter": "python",
   "pygments_lexer": "ipython3",
   "version": "3.12.6"
  }
 },
 "nbformat": 4,
 "nbformat_minor": 2
}
