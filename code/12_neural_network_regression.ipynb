{
 "cells": [
  {
   "cell_type": "markdown",
   "metadata": {},
   "source": [
    "### Neural Network for Regression\n",
    "\n",
    "The structure and operations of a neural network for regression are basically the same to those used for classification, with three key differences:\n",
    "\n",
    "1. **No Sigmoid at the Output Layer:**  \n",
    "   In regression tasks, the output layer does not apply a sigmoid activation function. Instead, the raw output of the network represents the predicted values.\n",
    "\n",
    "2. **Mean Squared Error (MSE) as the Cost Function:**  \n",
    "   The loss function for regression is the Mean Squared Error (MSE), defined as:\n",
    "\n",
    "   $$\n",
    "   J(\\Theta, b) = \\frac{1}{2m} \\sum_{i=1}^m \\left( h(x^{(i)}) - y^{(i)} \\right)^2 + \\frac{\\lambda}{2m} \\sum_{l=1}^{L-1} \\sum_{v=1}^{d_{l-1}} \\sum_{j=1}^{s_l} \\left( \\Theta_{jv}^{[l]} \\right)^2\n",
    "   $$\n",
    "      Here we consider its L2 regularized version where $\\lambda$ is the regularization parameter.\n",
    "\n",
    "3. **Error Calculation at the Output Layer:**  \n",
    "   In regression, the error for the output layer ($L$) is computed as the simple difference between the predicted output and the actual value:\n",
    "\n",
    "   $$\n",
    "   \\delta^{[L]} = A^{[L]} - y\n",
    "   $$\n",
    "\n",
    "Therefore, to adapt the neural network code for regression, you only need to make the above modifications.\n"
   ]
  },
  {
   "cell_type": "code",
   "execution_count": 120,
   "metadata": {},
   "outputs": [],
   "source": [
    "import numpy as np\n",
    "import pandas as pd\n",
    "\n",
    "from scratch_libraries.regression_nn import NeuralNetwork"
   ]
  },
  {
   "cell_type": "code",
   "execution_count": 121,
   "metadata": {},
   "outputs": [],
   "source": [
    "house= pd.read_csv('./datasets/houses.csv')"
   ]
  },
  {
   "cell_type": "code",
   "execution_count": 122,
   "metadata": {},
   "outputs": [],
   "source": [
    "house = house.sample(frac=1, random_state=123).reset_index(drop=True)"
   ]
  },
  {
   "cell_type": "code",
   "execution_count": 123,
   "metadata": {},
   "outputs": [],
   "source": [
    "x = house[['GrLivArea','LotArea','GarageArea','FullBath']].values\n",
    "\n",
    "y = house['SalePrice'].values\n",
    "\n",
    "train_index = round(len(x)*0.8)\n",
    "\n",
    "X_train = x[:train_index]\n",
    "y_train = y[:train_index]\n",
    "\n",
    "X_test = x[train_index:]\n",
    "y_test = y[train_index:]"
   ]
  },
  {
   "cell_type": "code",
   "execution_count": 124,
   "metadata": {},
   "outputs": [],
   "source": [
    "mean= X_train.mean(axis=0)\n",
    "std = X_train.std(axis=0)\n",
    "\n",
    "X_train = (X_train - mean)/std\n",
    "X_test = (X_test - mean)/std"
   ]
  },
  {
   "cell_type": "code",
   "execution_count": 125,
   "metadata": {},
   "outputs": [
    {
     "name": "stdout",
     "output_type": "stream",
     "text": [
      "[[ 1.02818732 -0.09200321 -0.19555998  0.79815675]\n",
      " [ 0.51560443 -0.08293953  1.43101858  0.79815675]\n",
      " [ 0.38598577 -0.6779945  -0.45015489  0.79815675]\n",
      " ...\n",
      " [ 0.62165606  0.11684324  1.40744497  0.79815675]\n",
      " [-0.70595325  0.34753795  0.04017604 -1.01908903]\n",
      " [ 0.21316089  0.23171356  2.0580764   0.79815675]]\n"
     ]
    }
   ],
   "source": [
    "print(X_train)"
   ]
  },
  {
   "cell_type": "code",
   "execution_count": 126,
   "metadata": {},
   "outputs": [],
   "source": [
    "nn = NeuralNetwork(layers=[X_train.shape[1], 10, 10, 1], epochs=3000, alpha=1e-3, lmd=0.1)\n",
    "nn.fit(X_train, y_train)"
   ]
  },
  {
   "cell_type": "code",
   "execution_count": 127,
   "metadata": {},
   "outputs": [
    {
     "name": "stdout",
     "output_type": "stream",
     "text": [
      "[180980. 180980. 180980. 180980. 180980. 180980. 180980. 180980. 180980.\n",
      " 180980. 180980. 180980. 180980. 180980. 180980. 180980. 180980. 180980.\n",
      " 180980. 180980.]\n"
     ]
    }
   ],
   "source": [
    "y_preds = nn.predict(X_test)\n",
    "print(y_preds[0,:20])"
   ]
  },
  {
   "cell_type": "code",
   "execution_count": 128,
   "metadata": {},
   "outputs": [
    {
     "name": "stdout",
     "output_type": "stream",
     "text": [
      "{'mae': 59749.49657534246, 'mape': 37.98411780057719, 'mpe': 18.603275369191007, 'mse': 6388733752.886987, 'rmse': 79929.55493987807, 'r2': -1.4346306125734287e-05}\n"
     ]
    }
   ],
   "source": [
    "print(nn.compute_performance(y_preds, y_test))"
   ]
  },
  {
   "cell_type": "markdown",
   "metadata": {},
   "source": [
    "If we look at the results we got we can see that the model seems stuck producing the same prediction repeatedly. In fact, examining the predictions, we observe an array where all values are identical. This issue is not due to an implementation bug in the Neural Network Regression. It is neither due to bad hyperparameters choose (changing hyperparameters you gen a little better metrics performance, but you will not solve this problem).\n",
    "\n",
    "In fact, this problem arises due to a deeper iussue related to the **magnitude of the target variable values (house prices).**  House prices, often ranging in tens or hundreds of thousands, introduce challenges due to their large magnitude:  \n",
    "\n",
    "1. **Numerical Instability:**  \n",
    "   Neural networks update weights incrementally based on the loss gradient. If the target variable has a large magnitude, the loss values and gradients will also be large, leading to small, slow updates to the weights. Consequently, the model converges very slowly or gets stuck, unable to capture meaningful patterns in the data.  \n",
    "\n",
    "2. **Loss Function Effect:**  \n",
    "   The learning process in neural networks depends on efficiently minimizing the loss function. The loss function we adopted, the **Mean Squared Error (MSE)**, amplifies the impact of large target values. These values dominate the error, skewing the learning process and making the model ineffective at predicting accurately smaller values.  \n",
    "\n",
    "-> I suppose that the model likely got trapped in a local minimum dominated by a large target value. So that optimizing the loss for such large value overwhelmed the learning process, preventing effective training.  \n",
    "\n",
    "In such cases to solve the problem what we could do is normalize also the target variable (e.g., through a Z-score normalization). Specifically, what we want to do is:  \n",
    "\n",
    "- **Normalize the Target:**  \n",
    "      Apply Z-score normalization to the training target variable:  \n",
    "      y_train_normalized = (y_train - y_train.mean()) / y_train.std()\n",
    "\n",
    "- **Train the Model:**\n",
    "      Fit the neural network using the normalized target values.\n",
    "  \n",
    "- **Re-denormalize Predictions:**\n",
    "      Transform predictions back to the original scale for interpretation:\n",
    "      y_pred_original = y_pred_normalized * y_train.std() + y_train.mean()\n",
    "\n",
    "\n",
    "**Why Target Normalization Works?**\n",
    "\n",
    "By rescaling the target to a smaller range, the model can learn more effectively. In fact, with normalized targets, the magnitude of the loss function and its gradients are reduced, ensuring that weight updates occur at a reasonable scale. So, the optimization algorithm can efficiently minimize the loss function without being overwhelmed by large gradients (and as a consequence, this prevents the model from getting stuck in local minima).  \n",
    "\n",
    "**Choosing the Right Normalization Technique**  \n",
    "In this case, **Z-score normalization** is the appropriate choice: \n",
    "- We don’t choose **Min-Max Normalization** because, as we studied, it relies on the range of the training data. However, in our case, house prices can vary widely without clear bounds.  \n",
    "- If test data includes values outside this range, predictions may become invalid. Z-score normalization, on the other hand, is robust to such variations.  \n",
    "- A **Min-Max Normalization** can make more sense, for example, when making regression on images since pixel values in images are bounded between 0 and 255."
   ]
  },
  {
   "cell_type": "code",
   "execution_count": 129,
   "metadata": {},
   "outputs": [
    {
     "name": "stdout",
     "output_type": "stream",
     "text": [
      "Before:  [222500  87000 130000 ... 314813 180500 315500]\n",
      "After normalization:  [ 0.52364475 -1.18535309 -0.64301429 ...  1.68794525 -0.00608152\n",
      "  1.69661006]\n"
     ]
    }
   ],
   "source": [
    "## NORMALIZATION\n",
    "\n",
    "print('Before: ', y_train)\n",
    "\n",
    "# Normalize the Target\n",
    "mean_y = np.mean(y_train)\n",
    "std_y = np.std(y_train)\n",
    "y_train = (y_train - mean_y) / std_y\n",
    "print('After normalization: ', y_train)"
   ]
  },
  {
   "cell_type": "code",
   "execution_count": 130,
   "metadata": {},
   "outputs": [],
   "source": [
    "nn = NeuralNetwork(layers=[X_train.shape[1], 10, 10, 1], epochs=3000, alpha=1e-3, lmd=0.1)\n",
    "# Fit the model with nomalized target\n",
    "nn.fit(X_train, y_train)"
   ]
  },
  {
   "cell_type": "code",
   "execution_count": 131,
   "metadata": {},
   "outputs": [
    {
     "data": {
      "image/png": "[encoded data removed]",
      "text/plain": [
       "<Figure size 640x480 with 1 Axes>"
      ]
     },
     "metadata": {},
     "output_type": "display_data"
    }
   ],
   "source": [
    "nn.plot_loss()"
   ]
  },
  {
   "cell_type": "code",
   "execution_count": 132,
   "metadata": {},
   "outputs": [
    {
     "name": "stdout",
     "output_type": "stream",
     "text": [
      "[-1. -0.  1.  0. -1. -1.  1.  1. -1.  1.  1. -1.  1. -1.  0.  0.  1.  0.\n",
      " -1.  0.]\n"
     ]
    }
   ],
   "source": [
    "preds = nn.predict(X_test)\n",
    "print(preds[0,:20])"
   ]
  },
  {
   "cell_type": "code",
   "execution_count": 133,
   "metadata": {},
   "outputs": [],
   "source": [
    "# Re-denormalize predictions\n",
    "y_preds = preds * std_y + mean_y"
   ]
  },
  {
   "cell_type": "code",
   "execution_count": 134,
   "metadata": {},
   "outputs": [
    {
     "name": "stdout",
     "output_type": "stream",
     "text": [
      "[101695.94848448 180982.18065068 260268.41281689 180982.18065068\n",
      " 101695.94848448 101695.94848448 260268.41281689 260268.41281689\n",
      " 101695.94848448 260268.41281689 260268.41281689 101695.94848448\n",
      " 260268.41281689 101695.94848448 180982.18065068 180982.18065068\n",
      " 260268.41281689 180982.18065068 101695.94848448 180982.18065068]\n"
     ]
    }
   ],
   "source": [
    "print(y_preds[0,:20])"
   ]
  },
  {
   "cell_type": "code",
   "execution_count": 135,
   "metadata": {},
   "outputs": [
    {
     "name": "stdout",
     "output_type": "stream",
     "text": [
      "[113000 110000 235000 150000 140000 132500 465000 380000  91500 290000\n",
      " 256300  79500 325000 145000 220000 181500 235000 262280 144500 145000]\n"
     ]
    }
   ],
   "source": [
    "# Just to compare our preds with the real target values\n",
    "print(y_test[:20])"
   ]
  },
  {
   "cell_type": "code",
   "execution_count": 136,
   "metadata": {},
   "outputs": [
    {
     "name": "stdout",
     "output_type": "stream",
     "text": [
      "{'mae': 42112.00235001213, 'mape': 24.489078678501016, 'mpe': 3.378494360225882, 'mse': 3350541025.9717956, 'rmse': 57883.8580778078, 'r2': 0.4755472330733844}\n"
     ]
    }
   ],
   "source": [
    "print(nn.compute_performance(y_preds, y_test))"
   ]
  },
  {
   "cell_type": "markdown",
   "metadata": {},
   "source": [
    "By applying the target normalization approach, we can now see that the model is demonstrating significant improvements in both prediction diversity and performance metrics:\n",
    "- The predictions now vary meaningfully, indicating that the network is capturing patterns in the data instead of being stuck in uniform outputs.\n",
    "- Moreover, keeping the same structure and the same hyperparameters for our network, we can see that performance metrics such as MAE, MAPE and R² highlight a better reduction in prediction errors and an enhanced fit to the data compared to the earlier results.\n",
    "\n",
    "Note: Doing an approapriate Grid Search we could get even better results."
   ]
  }
 ],
 "metadata": {
  "kernelspec": {
   "display_name": "ml_venv",
   "language": "python",
   "name": "python3"
  },
  "language_info": {
   "codemirror_mode": {
    "name": "ipython",
    "version": 3
   },
   "file_extension": ".py",
   "mimetype": "text/x-python",
   "name": "python",
   "nbconvert_exporter": "python",
   "pygments_lexer": "ipython3",
   "version": "3.12.6"
  }
 },
 "nbformat": 4,
 "nbformat_minor": 2
}
