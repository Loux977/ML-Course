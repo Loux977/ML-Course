{
 "cells": [
  {
   "cell_type": "markdown",
   "metadata": {},
   "source": [
    "### Eigen Value Decomposition (EVD) vs Singular Value Decomposition (SVD) from Scratch and with Sklearn"
   ]
  },
  {
   "cell_type": "markdown",
   "metadata": {},
   "source": [
    "##### Case 1: $ X $ is $ n \\times m $ (features × samples)\n",
    "Here, $ X $ is the **centered** data matrix and has **$ n $ features** and **$ m $ training samples**.\n",
    "\n",
    "**Eigenvalue Decomposition (EVD)**\n",
    "1. Compute the covariance matrix:\n",
    "   $$\n",
    "   \\hat{\\Sigma} = \\frac{1}{m} X X^T\n",
    "   $$\n",
    "   where $ \\hat{\\Sigma} $ is **$ n \\times n $**.\n",
    "2. Eigenvalue decomposition:\n",
    "     $$\n",
    "     \\hat{\\Sigma} = U \\Lambda U^T\n",
    "     $$\n",
    "     where:\n",
    "     - $ U $ is **$ n \\times n $** (eigenvectors).\n",
    "     - $ \\Lambda $ is **$ n \\times n $** (diagonal matrix of eigenvalues).\n",
    "3. Reordering:  \n",
    "   - The eigenvalues in $ \\Lambda $ must be sorted in **descending** order.  \n",
    "   - The corresponding eigenvectors in $ U $ must be **rearranged accordingly**.  \n",
    "4. Selection of principal components:  \n",
    "   - Choose the first $ k $ eigenvectors from the reordered $ U $, forming $ U_{\\text{reduce}} $ (which is $ n \\times k $).  \n",
    "5. Projection:\n",
    "     $$\n",
    "     Z = U_{\\text{reduce}}^T X\n",
    "     $$\n",
    "   where $ U_{\\text{reduce}}^T $ is $ k \\times n $ and $ X $ is $ n \\times m $ ... therefore $ Z $ is $ k \\times m $.\n",
    "   \n",
    "\n",
    "**Singular Value Decomposition (SVD)**\n",
    "1. SVD of $ X $:\n",
    "   $$\n",
    "   X = U S V^T\n",
    "   $$\n",
    "   where:\n",
    "   - $ U $ is **$ n \\times n $** (left singular vectors).\n",
    "   - $ S $ is **$ n \\times m $** (diagonal matrix of singular values).\n",
    "   - $ V $ is **$ m \\times m $** (right singular vectors).\n",
    "2. Selection of principal components:  \n",
    "   - Choose the first $ k $ columns of $ U $, forming $ U_{\\text{reduce}} $ (which is $ n \\times k $).\n",
    "   - Note that here eignevalues and corresponding eigenvectors are already oredered.  \n",
    "3. Projection:\n",
    "   $$\n",
    "   Z = U_{\\text{reduce}}^T X\n",
    "   $$\n",
    "   where $ U_{\\text{reduce}}^T $ is $ k \\times n $ and $ X $ is $ n \\times m $ ... therefore $ Z $ is $ k \\times m $.\n",
    "\n",
    "---\n",
    "\n",
    "##### Case 2: $ X $ is $ m \\times n $ (samples × features)\n",
    "Here, $ X $ is the **centered** data matrix and has **$ m $ samples** and **$ n $ features**.\n",
    "\n",
    "**Eigenvalue Decomposition (EVD)**\n",
    "1. Compute the covariance matrix:\n",
    "   $$\n",
    "   \\hat{\\Sigma} = \\frac{1}{m} X^T X\n",
    "   $$\n",
    "   where $ \\hat{\\Sigma} $ is **$ n \\times n $**.\n",
    "2. Eigenvalue decomposition:\n",
    "   $$\n",
    "   \\hat{\\Sigma} = U \\Lambda U^T\n",
    "   $$\n",
    "   where:\n",
    "   - $ U $ is **$ n \\times n $** (eigenvectors).\n",
    "   - $ \\Lambda $ is **$ n \\times n $** (diagonal matrix of eigenvalues).\n",
    "3. Reordering:  \n",
    "   - The eigenvalues in $ \\Lambda $ must be sorted in **descending** order.  \n",
    "   - The corresponding eigenvectors in $ U $ must be **rearranged accordingly**.  \n",
    "4. Selection of principal components:  \n",
    "   - Choose the first $ k $ eigenvectors from the reordered $ U $, forming $ U_{\\text{reduce}} $.  \n",
    "5. Projection:\n",
    "   $$\n",
    "   Z = X U_{\\text{reduce}}\n",
    "   $$\n",
    "   where $ X $ is $ m \\times n $ and $ U_{\\text{reduce}} $ is $ n \\times k $ ... therefore $ Z $ is $ m \\times k $.\n",
    "\n",
    "**Singular Value Decomposition (SVD)**\n",
    "1. SVD of $ X $:\n",
    "   $$\n",
    "   X = U S V^T\n",
    "   $$\n",
    "   where:\n",
    "   - $ U $ is **$ m \\times m $** (left singular vectors).\n",
    "   - $ S $ is **$ m \\times n $** (diagonal matrix of singular values).\n",
    "   - $ V $ is **$ n \\times n $** (right singular vectors).\n",
    "2. Selection of principal components:  \n",
    "   - Choose the first $ k $ columns of $ V $, forming $ V_{\\text{reduce}} $.  \n",
    "3. Projection:\n",
    "   $$\n",
    "   Z = X V_{\\text{reduce}}\n",
    "   $$\n",
    "   where $ X $ is $ m \\times n $ and $ V_{\\text{reduce}} $ is $ n \\times k $ ... therefore $ Z $ is $ m \\times k $."
   ]
  },
  {
   "cell_type": "code",
   "execution_count": 1,
   "metadata": {},
   "outputs": [],
   "source": [
    "import numpy as np\n",
    "import pandas as pd\n",
    "from collections import Counter\n",
    "\n",
    "from sklearn.preprocessing import StandardScaler\n",
    "from sklearn.decomposition import PCA\n",
    "from sklearn.model_selection import train_test_split"
   ]
  },
  {
   "cell_type": "code",
   "execution_count": 12,
   "metadata": {},
   "outputs": [
    {
     "data": {
      "text/html": [
       "<div>\n",
       "<style scoped>\n",
       "    .dataframe tbody tr th:only-of-type {\n",
       "        vertical-align: middle;\n",
       "    }\n",
       "\n",
       "    .dataframe tbody tr th {\n",
       "        vertical-align: top;\n",
       "    }\n",
       "\n",
       "    .dataframe thead th {\n",
       "        text-align: right;\n",
       "    }\n",
       "</style>\n",
       "<table border=\"1\" class=\"dataframe\">\n",
       "  <thead>\n",
       "    <tr style=\"text-align: right;\">\n",
       "      <th></th>\n",
       "      <th>RI</th>\n",
       "      <th>Na</th>\n",
       "      <th>Mg</th>\n",
       "      <th>Al</th>\n",
       "      <th>Si</th>\n",
       "      <th>K</th>\n",
       "      <th>Ca</th>\n",
       "      <th>Ba</th>\n",
       "      <th>Fe</th>\n",
       "      <th>Type</th>\n",
       "    </tr>\n",
       "  </thead>\n",
       "  <tbody>\n",
       "    <tr>\n",
       "      <th>0</th>\n",
       "      <td>1.52101</td>\n",
       "      <td>13.64</td>\n",
       "      <td>4.49</td>\n",
       "      <td>1.10</td>\n",
       "      <td>71.78</td>\n",
       "      <td>0.06</td>\n",
       "      <td>8.75</td>\n",
       "      <td>0.00</td>\n",
       "      <td>0.0</td>\n",
       "      <td>1</td>\n",
       "    </tr>\n",
       "    <tr>\n",
       "      <th>1</th>\n",
       "      <td>1.51761</td>\n",
       "      <td>13.89</td>\n",
       "      <td>3.60</td>\n",
       "      <td>1.36</td>\n",
       "      <td>72.73</td>\n",
       "      <td>0.48</td>\n",
       "      <td>7.83</td>\n",
       "      <td>0.00</td>\n",
       "      <td>0.0</td>\n",
       "      <td>1</td>\n",
       "    </tr>\n",
       "    <tr>\n",
       "      <th>2</th>\n",
       "      <td>1.51618</td>\n",
       "      <td>13.53</td>\n",
       "      <td>3.55</td>\n",
       "      <td>1.54</td>\n",
       "      <td>72.99</td>\n",
       "      <td>0.39</td>\n",
       "      <td>7.78</td>\n",
       "      <td>0.00</td>\n",
       "      <td>0.0</td>\n",
       "      <td>1</td>\n",
       "    </tr>\n",
       "    <tr>\n",
       "      <th>3</th>\n",
       "      <td>1.51766</td>\n",
       "      <td>13.21</td>\n",
       "      <td>3.69</td>\n",
       "      <td>1.29</td>\n",
       "      <td>72.61</td>\n",
       "      <td>0.57</td>\n",
       "      <td>8.22</td>\n",
       "      <td>0.00</td>\n",
       "      <td>0.0</td>\n",
       "      <td>1</td>\n",
       "    </tr>\n",
       "    <tr>\n",
       "      <th>4</th>\n",
       "      <td>1.51742</td>\n",
       "      <td>13.27</td>\n",
       "      <td>3.62</td>\n",
       "      <td>1.24</td>\n",
       "      <td>73.08</td>\n",
       "      <td>0.55</td>\n",
       "      <td>8.07</td>\n",
       "      <td>0.00</td>\n",
       "      <td>0.0</td>\n",
       "      <td>1</td>\n",
       "    </tr>\n",
       "    <tr>\n",
       "      <th>...</th>\n",
       "      <td>...</td>\n",
       "      <td>...</td>\n",
       "      <td>...</td>\n",
       "      <td>...</td>\n",
       "      <td>...</td>\n",
       "      <td>...</td>\n",
       "      <td>...</td>\n",
       "      <td>...</td>\n",
       "      <td>...</td>\n",
       "      <td>...</td>\n",
       "    </tr>\n",
       "    <tr>\n",
       "      <th>209</th>\n",
       "      <td>1.51623</td>\n",
       "      <td>14.14</td>\n",
       "      <td>0.00</td>\n",
       "      <td>2.88</td>\n",
       "      <td>72.61</td>\n",
       "      <td>0.08</td>\n",
       "      <td>9.18</td>\n",
       "      <td>1.06</td>\n",
       "      <td>0.0</td>\n",
       "      <td>7</td>\n",
       "    </tr>\n",
       "    <tr>\n",
       "      <th>210</th>\n",
       "      <td>1.51685</td>\n",
       "      <td>14.92</td>\n",
       "      <td>0.00</td>\n",
       "      <td>1.99</td>\n",
       "      <td>73.06</td>\n",
       "      <td>0.00</td>\n",
       "      <td>8.40</td>\n",
       "      <td>1.59</td>\n",
       "      <td>0.0</td>\n",
       "      <td>7</td>\n",
       "    </tr>\n",
       "    <tr>\n",
       "      <th>211</th>\n",
       "      <td>1.52065</td>\n",
       "      <td>14.36</td>\n",
       "      <td>0.00</td>\n",
       "      <td>2.02</td>\n",
       "      <td>73.42</td>\n",
       "      <td>0.00</td>\n",
       "      <td>8.44</td>\n",
       "      <td>1.64</td>\n",
       "      <td>0.0</td>\n",
       "      <td>7</td>\n",
       "    </tr>\n",
       "    <tr>\n",
       "      <th>212</th>\n",
       "      <td>1.51651</td>\n",
       "      <td>14.38</td>\n",
       "      <td>0.00</td>\n",
       "      <td>1.94</td>\n",
       "      <td>73.61</td>\n",
       "      <td>0.00</td>\n",
       "      <td>8.48</td>\n",
       "      <td>1.57</td>\n",
       "      <td>0.0</td>\n",
       "      <td>7</td>\n",
       "    </tr>\n",
       "    <tr>\n",
       "      <th>213</th>\n",
       "      <td>1.51711</td>\n",
       "      <td>14.23</td>\n",
       "      <td>0.00</td>\n",
       "      <td>2.08</td>\n",
       "      <td>73.36</td>\n",
       "      <td>0.00</td>\n",
       "      <td>8.62</td>\n",
       "      <td>1.67</td>\n",
       "      <td>0.0</td>\n",
       "      <td>7</td>\n",
       "    </tr>\n",
       "  </tbody>\n",
       "</table>\n",
       "<p>214 rows × 10 columns</p>\n",
       "</div>"
      ],
      "text/plain": [
       "          RI     Na    Mg    Al     Si     K    Ca    Ba   Fe  Type\n",
       "0    1.52101  13.64  4.49  1.10  71.78  0.06  8.75  0.00  0.0     1\n",
       "1    1.51761  13.89  3.60  1.36  72.73  0.48  7.83  0.00  0.0     1\n",
       "2    1.51618  13.53  3.55  1.54  72.99  0.39  7.78  0.00  0.0     1\n",
       "3    1.51766  13.21  3.69  1.29  72.61  0.57  8.22  0.00  0.0     1\n",
       "4    1.51742  13.27  3.62  1.24  73.08  0.55  8.07  0.00  0.0     1\n",
       "..       ...    ...   ...   ...    ...   ...   ...   ...  ...   ...\n",
       "209  1.51623  14.14  0.00  2.88  72.61  0.08  9.18  1.06  0.0     7\n",
       "210  1.51685  14.92  0.00  1.99  73.06  0.00  8.40  1.59  0.0     7\n",
       "211  1.52065  14.36  0.00  2.02  73.42  0.00  8.44  1.64  0.0     7\n",
       "212  1.51651  14.38  0.00  1.94  73.61  0.00  8.48  1.57  0.0     7\n",
       "213  1.51711  14.23  0.00  2.08  73.36  0.00  8.62  1.67  0.0     7\n",
       "\n",
       "[214 rows x 10 columns]"
      ]
     },
     "metadata": {},
     "output_type": "display_data"
    }
   ],
   "source": [
    "df = pd.read_csv('../datasets/glass.csv')\n",
    "features = df.columns[:-1].tolist()\n",
    "\n",
    "display(df)"
   ]
  },
  {
   "cell_type": "code",
   "execution_count": 13,
   "metadata": {},
   "outputs": [
    {
     "name": "stdout",
     "output_type": "stream",
     "text": [
      "(214, 10)\n"
     ]
    }
   ],
   "source": [
    "# Remove outliers from the dataset\n",
    "def outlier_hunt(df):\n",
    "    outlier_indices = []\n",
    "\n",
    "    for col in df.columns.tolist():\n",
    "        Q1 = np.percentile(df[col], 25)\n",
    "        Q3 = np.percentile(df[col], 75)\n",
    "        IRQ = Q3 - Q1\n",
    "        outlier_step = 1.5 * IRQ\n",
    "\n",
    "        outlier_list_col = df[(df[col] < Q1 - outlier_step) |\n",
    "                              (df[col] > Q3 + outlier_step)].index\n",
    "        outlier_indices.extend(outlier_list_col)\n",
    "\n",
    "    outlier_indices = Counter(outlier_indices)\n",
    "    multiple_outliers = list(k for k, v in outlier_indices.items() if v > 2)\n",
    "\n",
    "    return multiple_outliers\n",
    "\n",
    "print(df.shape)"
   ]
  },
  {
   "cell_type": "code",
   "execution_count": 14,
   "metadata": {},
   "outputs": [
    {
     "name": "stdout",
     "output_type": "stream",
     "text": [
      "(200, 10)\n"
     ]
    }
   ],
   "source": [
    "# Remove outliers from the dataset\n",
    "outlier_indices = outlier_hunt(df[features])\n",
    "df = df.drop(outlier_indices).reset_index(drop=True)\n",
    "print(df.shape)"
   ]
  },
  {
   "cell_type": "code",
   "execution_count": 38,
   "metadata": {},
   "outputs": [],
   "source": [
    "X = df[features]\n",
    "y = df['Type']\n",
    "\n",
    "test_size = 0.2\n",
    "seed = 42\n",
    "\n",
    "X_train, X_test, y_train, y_test = train_test_split(X, y, test_size=test_size, random_state=seed)"
   ]
  },
  {
   "cell_type": "markdown",
   "metadata": {},
   "source": [
    "Eigen Value Decomposition (EVD)"
   ]
  },
  {
   "cell_type": "code",
   "execution_count": 39,
   "metadata": {},
   "outputs": [],
   "source": [
    "# 1. Center the data (zero mean) or Normalize them\n",
    "sc = StandardScaler()\n",
    "X_train_normalized = sc.fit_transform(X_train)\n",
    "X_test_normalized = sc.transform(X_test)"
   ]
  },
  {
   "cell_type": "code",
   "execution_count": 40,
   "metadata": {},
   "outputs": [],
   "source": [
    "# 2. Compute the covariance matrix\n",
    "cov_matrix = np.cov(X_train_normalized, rowvar=False) # rowvar=False to indicate that each row is an observationa and each column a feature"
   ]
  },
  {
   "cell_type": "code",
   "execution_count": 41,
   "metadata": {},
   "outputs": [],
   "source": [
    "# 3. Perform eigenvalue decomposition\n",
    "eigenvalues, eigenvectors = np.linalg.eig(cov_matrix)"
   ]
  },
  {
   "cell_type": "code",
   "execution_count": 42,
   "metadata": {},
   "outputs": [
    {
     "name": "stdout",
     "output_type": "stream",
     "text": [
      "Size of X_train_normalized:  (160, 9)\n",
      "Size of Covariance Matrix:  (9, 9)\n",
      "Size of U:  (9, 9)\n",
      "Size of main diagonal elements of Λ:  (9,)\n"
     ]
    }
   ],
   "source": [
    "print(\"Size of X_train_normalized: \", X_train_normalized.shape)\n",
    "print(\"Size of Covariance Matrix: \", cov_matrix.shape)\n",
    "print(\"Size of U: \", eigenvectors.shape)\n",
    "print(\"Size of main diagonal elements of Λ: \", eigenvalues.shape)"
   ]
  },
  {
   "cell_type": "code",
   "execution_count": 43,
   "metadata": {},
   "outputs": [
    {
     "name": "stdout",
     "output_type": "stream",
     "text": [
      "[3.05122971e+00 2.46846798e+00 1.28161063e+00 9.61418033e-01\n",
      " 5.57542845e-01 2.57775763e-03 8.98503006e-02 3.89509520e-01\n",
      " 2.54396998e-01]\n"
     ]
    }
   ],
   "source": [
    "print(eigenvalues)"
   ]
  },
  {
   "cell_type": "code",
   "execution_count": 44,
   "metadata": {},
   "outputs": [
    {
     "name": "stdout",
     "output_type": "stream",
     "text": [
      "[[ 1.47053409e-01  5.71310135e-01 -1.79644456e-01  6.62484608e-03\n",
      "   6.11620910e-02 -2.62474267e-02  7.01871715e-01 -3.40522400e-01\n",
      "   8.15773679e-02]\n",
      " [-3.94713964e-01  2.60398801e-01  4.34721069e-01  1.81554514e-02\n",
      "   9.85527482e-03  3.28388111e-01  9.99907144e-02  5.64658644e-02\n",
      "  -6.82611828e-01]\n",
      " [ 4.92910732e-01 -4.66807448e-02  4.17354296e-01  9.19528469e-02\n",
      "  -6.83757574e-02  6.85876295e-01  5.35316095e-02  3.44277663e-02\n",
      "   3.05069734e-01]\n",
      " [-4.19491094e-01 -2.43528848e-01 -3.80171782e-02 -9.39234016e-02\n",
      "   6.80566348e-01  2.17851314e-01  3.07531519e-01  2.40283079e-01\n",
      "   3.02510610e-01]\n",
      " [-1.71040935e-01 -4.55759514e-01 -4.04697310e-01 -8.33459104e-04\n",
      "  -5.53794254e-01  3.01870473e-01  4.21148774e-01  9.00228524e-02\n",
      "  -1.26346331e-01]\n",
      " [ 3.28813123e-01 -3.68930158e-01 -2.40055474e-01  5.41610927e-02\n",
      "   4.31390728e-01  1.53934530e-01 -6.37597851e-02 -5.24012825e-01\n",
      "  -4.54712946e-01]\n",
      " [-4.12105010e-02  4.47489345e-01 -6.07588042e-01 -4.85188142e-02\n",
      "   6.73185990e-02  4.70385157e-01 -4.07886060e-01  1.85079522e-01\n",
      "  -1.08728880e-02]\n",
      " [-4.91289206e-01 -7.13724260e-03  9.68152264e-02 -1.04323905e-01\n",
      "  -1.73217228e-01  1.93168878e-01 -2.27209823e-01 -7.10436759e-01\n",
      "   3.38621020e-01]\n",
      " [ 1.52335003e-01 -1.37095787e-02  5.63257201e-02 -9.82943482e-01\n",
      "  -3.15315163e-02  1.37404591e-02  2.25774936e-02  1.63247863e-02\n",
      "  -7.27759608e-02]]\n"
     ]
    }
   ],
   "source": [
    "print(eigenvectors)"
   ]
  },
  {
   "cell_type": "code",
   "execution_count": 45,
   "metadata": {},
   "outputs": [],
   "source": [
    "# 4. Sort eigenvalues and eigenvectors in descending order\n",
    "sorted_indices = np.argsort(eigenvalues)[::-1]\n",
    "eigenvalues_ordered = eigenvalues[sorted_indices]\n",
    "eigenvectors_ordered = eigenvectors[:, sorted_indices]"
   ]
  },
  {
   "cell_type": "code",
   "execution_count": 46,
   "metadata": {},
   "outputs": [
    {
     "name": "stdout",
     "output_type": "stream",
     "text": [
      "[3.05122971e+00 2.46846798e+00 1.28161063e+00 9.61418033e-01\n",
      " 5.57542845e-01 3.89509520e-01 2.54396998e-01 8.98503006e-02\n",
      " 2.57775763e-03]\n"
     ]
    }
   ],
   "source": [
    "print(eigenvalues_ordered)"
   ]
  },
  {
   "cell_type": "code",
   "execution_count": 47,
   "metadata": {},
   "outputs": [],
   "source": [
    "# 5. Project the data onto the top k principal components\n",
    "k = 4\n",
    "U_reduced = eigenvectors_ordered[:, :k]\n",
    "\n",
    "evd_projected_data = X_test_normalized @ U_reduced # @ is equivalent to the dot product"
   ]
  },
  {
   "cell_type": "code",
   "execution_count": 48,
   "metadata": {},
   "outputs": [
    {
     "name": "stdout",
     "output_type": "stream",
     "text": [
      "Size of X_test_normalized:  (40, 9)\n",
      "Size of U_reduced:  (9, 4)\n",
      "Size of Z:  (40, 9)  ×  (9, 4)  =  (40, 4)\n"
     ]
    }
   ],
   "source": [
    "print(\"Size of X_test_normalized: \", X_test_normalized.shape)\n",
    "print(\"Size of U_reduced: \", U_reduced.shape)\n",
    "print(\"Size of Z: \", X_test_normalized.shape, \" × \", U_reduced.shape, \" = \", evd_projected_data.shape)"
   ]
  },
  {
   "cell_type": "code",
   "execution_count": 49,
   "metadata": {},
   "outputs": [
    {
     "name": "stdout",
     "output_type": "stream",
     "text": [
      "[[ 0.59762705  0.22750794  0.43090147  0.69106272]\n",
      " [ 0.88940714 -1.00208547 -0.31228539  0.74495165]\n",
      " [ 1.21866925 -0.88091848 -0.44850229 -0.78265381]\n",
      " [ 0.80977144  1.31023317 -3.5895215   0.36927705]\n",
      " [ 0.79419679 -0.43613607  0.57220814  0.78060014]\n",
      " [ 0.89488731 -1.49672785  0.30135602 -1.55728252]\n",
      " [ 1.18218844  3.06110549 -0.39270715  0.37028767]\n",
      " [-1.1521304   1.05037318  0.15695239  0.45248883]\n",
      " [-1.39195044  2.53324274 -1.96500117  0.45246464]\n",
      " [ 0.75059762  0.78424382  0.40456783  0.70219683]\n",
      " [ 1.46775639  2.13677084 -0.3211067  -1.11827915]\n",
      " [-3.89417864 -0.93939153 -0.48556002 -0.58654539]\n",
      " [ 0.45353538  0.41462323 -1.14330158 -5.13491364]\n",
      " [ 0.27133996 -0.71463744  1.25125414 -0.7489306 ]\n",
      " [-4.09440067 -0.19157319  0.35757089  0.03810096]\n",
      " [-2.49393336 -0.32595273  0.42437212  0.21731024]\n",
      " [ 1.13462413 -2.19849983  0.57551199 -2.56062902]\n",
      " [ 0.47931589  0.19191638  0.550641    0.67527606]\n",
      " [ 0.69443737 -1.03792743  0.534929    0.78644731]\n",
      " [ 1.40747979  2.10285016 -0.30630318 -1.01176534]\n",
      " [-0.49491158  2.78382961 -1.78364215  0.40048269]\n",
      " [ 1.14179047 -0.75211727 -0.5090349   0.75484001]\n",
      " [ 0.93810642 -0.59664057 -0.10950013  0.71535006]\n",
      " [ 0.08484298 -1.1624907   0.35449279  0.66350296]\n",
      " [ 0.5204045   2.21563688  0.50657615  0.66833609]\n",
      " [ 0.36318026  0.84240924  0.56790883  0.70544263]\n",
      " [-0.24622482 -2.37791944  1.71082197  0.72299087]\n",
      " [ 1.44116037  2.06590248 -0.38403514 -1.11840875]\n",
      " [-0.37034595  5.84494051 -3.20447509 -0.86946592]\n",
      " [ 0.61995034 -1.8143147  -0.10445885  0.71477868]\n",
      " [ 0.91698362 -0.84248474  0.0430081  -0.45416576]\n",
      " [ 0.22129767  1.45219255  1.07952338  0.68609343]\n",
      " [ 0.96914655 -1.13586745 -1.36088188 -1.94263132]\n",
      " [ 0.57792242 -1.76633649  0.21472882  0.73088362]\n",
      " [ 0.46788535 -0.45264984  0.34788072  0.71365969]\n",
      " [-1.12407434  3.48158893 -1.99948885 -0.49003704]\n",
      " [ 1.17956909 -0.2588627   0.27608445 -1.05048919]\n",
      " [ 0.43132973 -1.19322634  0.18093317  0.65178191]\n",
      " [-0.85037822  2.92710173 -3.13777012  0.24034452]\n",
      " [ 0.52088237 -0.90131645  0.87310236  0.73117265]]\n"
     ]
    }
   ],
   "source": [
    "print(evd_projected_data)"
   ]
  },
  {
   "cell_type": "markdown",
   "metadata": {},
   "source": [
    "Singular Value Decomposition (SVD)"
   ]
  },
  {
   "cell_type": "code",
   "execution_count": 51,
   "metadata": {},
   "outputs": [
    {
     "name": "stdout",
     "output_type": "stream",
     "text": [
      "Size of U:  (160, 160)\n",
      "Size of main diagonal elements of S:  (9,)\n",
      "Size of V^T:  (9, 9)\n"
     ]
    }
   ],
   "source": [
    "# Perform Singular Value Decomposition\n",
    "U, S, Vt = np.linalg.svd(X_train_normalized)\n",
    "\n",
    "print(\"Size of U: \", U.shape)\n",
    "print(\"Size of main diagonal elements of S: \", S.shape)\n",
    "print(\"Size of V^T: \", Vt.shape)"
   ]
  },
  {
   "cell_type": "code",
   "execution_count": 52,
   "metadata": {},
   "outputs": [],
   "source": [
    "# Project data onto the top k principal components\n",
    "k = 4\n",
    "V_reduced = Vt[:k, :].T  # Top k left singular vectors\n",
    "\n",
    "svd_projected_data = X_test_normalized @ V_reduced"
   ]
  },
  {
   "cell_type": "code",
   "execution_count": 53,
   "metadata": {},
   "outputs": [
    {
     "name": "stdout",
     "output_type": "stream",
     "text": [
      "Size of X_test_normalized:  (40, 9)\n",
      "Size of V_reduced:  (9, 4)\n",
      "Size of Z:  (40, 9)  ×  (9, 4)  =  (40, 4)\n"
     ]
    }
   ],
   "source": [
    "print(\"Size of X_test_normalized: \", X_test_normalized.shape)\n",
    "print(\"Size of V_reduced: \", V_reduced.shape)\n",
    "print(\"Size of Z: \", X_test_normalized.shape, \" × \", V_reduced.shape, \" = \", svd_projected_data.shape)"
   ]
  },
  {
   "cell_type": "code",
   "execution_count": 55,
   "metadata": {},
   "outputs": [
    {
     "name": "stdout",
     "output_type": "stream",
     "text": [
      "[[ 0.59762705 -0.22750794 -0.43090147 -0.69106272]\n",
      " [ 0.88940714  1.00208547  0.31228539 -0.74495165]\n",
      " [ 1.21866925  0.88091848  0.44850229  0.78265381]\n",
      " [ 0.80977144 -1.31023317  3.5895215  -0.36927705]\n",
      " [ 0.79419679  0.43613607 -0.57220814 -0.78060014]\n",
      " [ 0.89488731  1.49672785 -0.30135602  1.55728252]\n",
      " [ 1.18218844 -3.06110549  0.39270715 -0.37028767]\n",
      " [-1.1521304  -1.05037318 -0.15695239 -0.45248883]\n",
      " [-1.39195044 -2.53324274  1.96500117 -0.45246464]\n",
      " [ 0.75059762 -0.78424382 -0.40456783 -0.70219683]\n",
      " [ 1.46775639 -2.13677084  0.3211067   1.11827915]\n",
      " [-3.89417864  0.93939153  0.48556002  0.58654539]\n",
      " [ 0.45353538 -0.41462323  1.14330158  5.13491364]\n",
      " [ 0.27133996  0.71463744 -1.25125414  0.7489306 ]\n",
      " [-4.09440067  0.19157319 -0.35757089 -0.03810096]\n",
      " [-2.49393336  0.32595273 -0.42437212 -0.21731024]\n",
      " [ 1.13462413  2.19849983 -0.57551199  2.56062902]\n",
      " [ 0.47931589 -0.19191638 -0.550641   -0.67527606]\n",
      " [ 0.69443737  1.03792743 -0.534929   -0.78644731]\n",
      " [ 1.40747979 -2.10285016  0.30630318  1.01176534]\n",
      " [-0.49491158 -2.78382961  1.78364215 -0.40048269]\n",
      " [ 1.14179047  0.75211727  0.5090349  -0.75484001]\n",
      " [ 0.93810642  0.59664057  0.10950013 -0.71535006]\n",
      " [ 0.08484298  1.1624907  -0.35449279 -0.66350296]\n",
      " [ 0.5204045  -2.21563688 -0.50657615 -0.66833609]\n",
      " [ 0.36318026 -0.84240924 -0.56790883 -0.70544263]\n",
      " [-0.24622482  2.37791944 -1.71082197 -0.72299087]\n",
      " [ 1.44116037 -2.06590248  0.38403514  1.11840875]\n",
      " [-0.37034595 -5.84494051  3.20447509  0.86946592]\n",
      " [ 0.61995034  1.8143147   0.10445885 -0.71477868]\n",
      " [ 0.91698362  0.84248474 -0.0430081   0.45416576]\n",
      " [ 0.22129767 -1.45219255 -1.07952338 -0.68609343]\n",
      " [ 0.96914655  1.13586745  1.36088188  1.94263132]\n",
      " [ 0.57792242  1.76633649 -0.21472882 -0.73088362]\n",
      " [ 0.46788535  0.45264984 -0.34788072 -0.71365969]\n",
      " [-1.12407434 -3.48158893  1.99948885  0.49003704]\n",
      " [ 1.17956909  0.2588627  -0.27608445  1.05048919]\n",
      " [ 0.43132973  1.19322634 -0.18093317 -0.65178191]\n",
      " [-0.85037822 -2.92710173  3.13777012 -0.24034452]\n",
      " [ 0.52088237  0.90131645 -0.87310236 -0.73117265]]\n"
     ]
    }
   ],
   "source": [
    "print(svd_projected_data)"
   ]
  },
  {
   "cell_type": "markdown",
   "metadata": {},
   "source": [
    "Sklearn SVD"
   ]
  },
  {
   "cell_type": "code",
   "execution_count": 56,
   "metadata": {},
   "outputs": [
    {
     "name": "stdout",
     "output_type": "stream",
     "text": [
      "(40, 4)\n",
      "[[ 0.59762705  0.22750794 -0.43090147 -0.69106272]\n",
      " [ 0.88940714 -1.00208547  0.31228539 -0.74495165]\n",
      " [ 1.21866925 -0.88091848  0.44850229  0.78265381]\n",
      " [ 0.80977144  1.31023317  3.5895215  -0.36927705]\n",
      " [ 0.79419679 -0.43613607 -0.57220814 -0.78060014]\n",
      " [ 0.89488731 -1.49672785 -0.30135602  1.55728252]\n",
      " [ 1.18218844  3.06110549  0.39270715 -0.37028767]\n",
      " [-1.1521304   1.05037318 -0.15695239 -0.45248883]\n",
      " [-1.39195044  2.53324274  1.96500117 -0.45246464]\n",
      " [ 0.75059762  0.78424382 -0.40456783 -0.70219683]\n",
      " [ 1.46775639  2.13677084  0.3211067   1.11827915]\n",
      " [-3.89417864 -0.93939153  0.48556002  0.58654539]\n",
      " [ 0.45353538  0.41462323  1.14330158  5.13491364]\n",
      " [ 0.27133996 -0.71463744 -1.25125414  0.7489306 ]\n",
      " [-4.09440067 -0.19157319 -0.35757089 -0.03810096]\n",
      " [-2.49393336 -0.32595273 -0.42437212 -0.21731024]\n",
      " [ 1.13462413 -2.19849983 -0.57551199  2.56062902]\n",
      " [ 0.47931589  0.19191638 -0.550641   -0.67527606]\n",
      " [ 0.69443737 -1.03792743 -0.534929   -0.78644731]\n",
      " [ 1.40747979  2.10285016  0.30630318  1.01176534]\n",
      " [-0.49491158  2.78382961  1.78364215 -0.40048269]\n",
      " [ 1.14179047 -0.75211727  0.5090349  -0.75484001]\n",
      " [ 0.93810642 -0.59664057  0.10950013 -0.71535006]\n",
      " [ 0.08484298 -1.1624907  -0.35449279 -0.66350296]\n",
      " [ 0.5204045   2.21563688 -0.50657615 -0.66833609]\n",
      " [ 0.36318026  0.84240924 -0.56790883 -0.70544263]\n",
      " [-0.24622482 -2.37791944 -1.71082197 -0.72299087]\n",
      " [ 1.44116037  2.06590248  0.38403514  1.11840875]\n",
      " [-0.37034595  5.84494051  3.20447509  0.86946592]\n",
      " [ 0.61995034 -1.8143147   0.10445885 -0.71477868]\n",
      " [ 0.91698362 -0.84248474 -0.0430081   0.45416576]\n",
      " [ 0.22129767  1.45219255 -1.07952338 -0.68609343]\n",
      " [ 0.96914655 -1.13586745  1.36088188  1.94263132]\n",
      " [ 0.57792242 -1.76633649 -0.21472882 -0.73088362]\n",
      " [ 0.46788535 -0.45264984 -0.34788072 -0.71365969]\n",
      " [-1.12407434  3.48158893  1.99948885  0.49003704]\n",
      " [ 1.17956909 -0.2588627  -0.27608445  1.05048919]\n",
      " [ 0.43132973 -1.19322634 -0.18093317 -0.65178191]\n",
      " [-0.85037822  2.92710173  3.13777012 -0.24034452]\n",
      " [ 0.52088237 -0.90131645 -0.87310236 -0.73117265]]\n"
     ]
    }
   ],
   "source": [
    "pca = PCA(n_components=4, random_state=seed) # SVD\n",
    "# The 'fit_transform' method first performs the Singular Value Decomposition (SVD) and then projects the original data\n",
    "# into the lower k-dimensional space by multipling the original data onto these components (U_reduced).\n",
    "_ = pca.fit_transform(X_train_normalized)\n",
    "# Transform the test data into the same k-dimensional space using the components learned from the training set.\n",
    "sklearn_svd_projected_data = pca.transform(X_test_normalized)\n",
    "\n",
    "print(sklearn_svd_projected_data.shape)\n",
    "print(sklearn_svd_projected_data)"
   ]
  },
  {
   "cell_type": "code",
   "execution_count": null,
   "metadata": {},
   "outputs": [],
   "source": []
  }
 ],
 "metadata": {
  "kernelspec": {
   "display_name": "ml_venv",
   "language": "python",
   "name": "python3"
  },
  "language_info": {
   "codemirror_mode": {
    "name": "ipython",
    "version": 3
   },
   "file_extension": ".py",
   "mimetype": "text/x-python",
   "name": "python",
   "nbconvert_exporter": "python",
   "pygments_lexer": "ipython3",
   "version": "3.12.6"
  }
 },
 "nbformat": 4,
 "nbformat_minor": 2
}
