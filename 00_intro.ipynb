{
 "cells": [
  {
   "cell_type": "markdown",
   "metadata": {},
   "source": [
    "### Introduction to Jupyter Notebooks\n",
    "\n",
    "This notebook is designed to help you set up and get familiar with using Jupyter Notebooks. At this point, I assume you've already created a virtual environment called `ml_venv`. If you haven’t done so yet, please refer to the [How to Use This Repository](https://github.com/Loux977/ML-Course) guideline and complete those steps first."
   ]
  },
  {
   "cell_type": "markdown",
   "metadata": {},
   "source": [
    "#### Why Python?\n",
    "**Python** has become one of the most popular programming languages for scientific computing and data analysis, thanks to its simplicity, versatility, and robust ecosystem of third-party libraries. These libraries empower Python to handle complex data manipulation, visualization, and machine learning tasks efficiently. Some key libraries we'll leverage include:\n",
    "- **NumPy**: For fast and efficient manipulation of array-based data.\n",
    "- **Pandas**: For working with heterogeneous and labeled data.\n",
    "- **Matplotlib**: For creating high-quality visualizations.\n",
    "- **IPython**: For interactive execution and code sharing.\n",
    "- **Scikit-Learn**: For machine learning.\n",
    "\n",
    "These tools (and many more) make Python a go-to language for modern data science, as you'll discover throughout this course.\n",
    "\n",
    "#### Why Jupyter?\n",
    "There are many ways to write and execute Python code. One way is by using Python scripts with a text editor (as done during the course), however I personally prefer working with **Jupyter Notebooks**. They provide an interactive environment where you can write, run, and immediately visualize code, all within a single document. Additionally, Jupyter supports Markdown, allowing you to combine rich text explanations alongside your code. This feature makes it ideal for exploring data, creating visualizations, and documenting insights in an organized and engaging way.\n",
    "\n",
    "&nbsp;\n",
    "\n",
    "To follow this guideline, I suggest using **Visual Studio Code (VSCode)** as the editor. If you haven’t already, you should install the `Python` and `Jupyter` extensions from the VSCode **Extensions** marketplace (found in the left sidebar of VSCode).\n",
    "\n",
    "Moreover, for a better experience, I recommend opening the entire `ML-Course` directory via `File -> Open Folder` in VSCode. This will give you easy access to all files and help you navigate through the different sections smoothly.\n",
    "\n",
    "---"
   ]
  },
  {
   "cell_type": "markdown",
   "metadata": {},
   "source": [
    "#### Working with Jupyter Notebooks\n",
    "A **Jupyter Notebook** is organized into cells, which are blocks of content that can be executed or edited individually. There are two primary types of cells: **Markdown** cells, used for text explanations like this one, and **Code** cells, used for running Python code.\n",
    "\n",
    "You can add new cells to your notebook by using `+Code` or `+Markdown` buttons at the top of the interface. Cells can be deleted using the `bin` icon, or modified using the `edit` icon (both are visible on top-right part of the cell when you click on them). To execute a code cell, simply click the `play` button on its left side. Alternatively, you can run all cells in sequence using the `Run All` option at the top. The structure of the notebook makes it easy to experiment with code while keeping your work well-documented.\n",
    "\n",
    "Before running any cell, you must select a **Kernel**. The kernel is the Python interpreter that will execute your code. In VSCode, click on `Select Kernel` at the top of the interface. Then, under `Python Environments` select the interpreter associated with the virtual environment you’ve created (e.g., `ml_venv`). If `ml_venv` is not listed, try restarting VSCode. If the issue persists, proceed as follows: open the Command Palette (`Ctrl+Shift+P` or `Cmd+Shift+P` on macOS), search for `Python: Select Interpreter` and manually locate the path to your virtual environment’s Python executable:\n",
    "- Linux/macOS:  `/ml_venv/bin/python.exe`\n",
    "- Windows:  `\\ml_venv\\Scripts\\python.exe`\n",
    "\n",
    "Then check if `ml_venv` is listed, otherwise again close and re-open VSCode and this time it should detect it.\n",
    "\n",
    "\n",
    "#### Installing Required Libraries\n",
    "As first thing ensure that the `ipykernel` package is installed, as this is necessary for your Jupyter Notebook to connect to the kernel. You can install it by running:"
   ]
  },
  {
   "cell_type": "code",
   "execution_count": 1,
   "metadata": {},
   "outputs": [],
   "source": [
    "! pip install ipykernel"
   ]
  },
  {
   "cell_type": "markdown",
   "metadata": {},
   "source": [
    "**Note**: The `!` character allows you to execute system commands directly from a jupyter code cell. Anything following the `!` will be executed not by the Python kernel, but by the system’s command line (as though you were running it in a terminal with the virtual environment activated).\n",
    "\n",
    "As you often will need to install additional libraries for specific tasks, this approach allows you to install libraries directly from the notebook itself.\n",
    "\n",
    "For instance, to install NumPy run:\n"
   ]
  },
  {
   "cell_type": "code",
   "execution_count": 2,
   "metadata": {},
   "outputs": [],
   "source": [
    "! pip install numpy"
   ]
  },
  {
   "cell_type": "markdown",
   "metadata": {},
   "source": [
    "Once installed you can import the library and use it. Below there is a simple example:"
   ]
  },
  {
   "cell_type": "code",
   "execution_count": 3,
   "metadata": {},
   "outputs": [
    {
     "name": "stdout",
     "output_type": "stream",
     "text": [
      "[2. 3. 5.]\n"
     ]
    }
   ],
   "source": [
    "import numpy as np\n",
    "\n",
    "x = np.array([4, 9, 25])\n",
    "y = np.sqrt(x)\n",
    "\n",
    "print(y)"
   ]
  },
  {
   "cell_type": "markdown",
   "metadata": {},
   "source": [
    "**Note**: In general, if you encounter errors like ModuleNotFoundError: `No module named 'numpy'` or `No module named 'pandas'` while running your notebook, simply install the missing library using this approach:\n",
    "\n",
    "`! pip install <library-name>`\n",
    "\n",
    "Moreover, sometimes after installation of libraries you will need to restart your Kernel. You can do it by clicking on the `Restart` button on the top of the interface.\n",
    "\n",
    "&nbsp;\n",
    "\n",
    "**!!!**: In the next notebooks I will assume you are already familiar (at least a little) with Numpy and Pandas. For beginners learning NumPy and Pandas, the slides of python_crash_course released during the course should be sufficient. For who doesn't have access to this pack of slides or for who wants more detailed explanations and examples consider exploring [Zero to Mastery Machine Learning and Data Science course](https://github.com/mrdbourke/zero-to-mastery-ml). This repository includes introductions to NumPy (1), Pandas (2), and Matplotlib (3). Additionally, it covers Scikit-Learn (4) and includes **Milestone Projects** that can help reinforce your understanding through end-to-end projects.\n",
    "\n",
    "---\n",
    "\n",
    "#### Structure of the Code Directory\n",
    "\n",
    "The **ML-Course** directory is organized as follows:\n",
    "\n",
    "- The files directly within the directory are written as Jupyter Notebooks, which correspond to the main files.\n",
    "\n",
    "- **scratch_libraries**: This subfolder contains implementations of algorithms from scratch written as Python scripts. We call them via `import` inside the main files.\n",
    "\n",
    "- **datasets**: This subfolder includes datasets in `.csv` format. These datasets are used throughout the notebooks for different exercises and tasks.\n",
    "\n",
    "- **extra**: This subfolder holds additional code implementations of topics discussed only theoreticall during the course or additional stuff."
   ]
  }
 ],
 "metadata": {
  "kernelspec": {
   "display_name": "ml_venv",
   "language": "python",
   "name": "python3"
  },
  "language_info": {
   "codemirror_mode": {
    "name": "ipython",
    "version": 3
   },
   "file_extension": ".py",
   "mimetype": "text/x-python",
   "name": "python",
   "nbconvert_exporter": "python",
   "pygments_lexer": "ipython3",
   "version": "3.12.6"
  }
 },
 "nbformat": 4,
 "nbformat_minor": 2
}
